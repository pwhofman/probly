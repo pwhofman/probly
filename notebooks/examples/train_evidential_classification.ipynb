{
 "cells": [
  {
   "cell_type": "markdown",
   "id": "de37fc56f4fc73af",
   "metadata": {},
   "source": "## Train an evidential model for classification following https://arxiv.org/pdf/1806.01768"
  },
  {
   "cell_type": "code",
   "execution_count": 1,
   "id": "c4cf29269a387be6",
   "metadata": {
    "ExecuteTime": {
     "end_time": "2025-03-24T15:21:13.447378Z",
     "start_time": "2025-03-24T15:21:11.372166Z"
    }
   },
   "outputs": [],
   "source": [
    "import matplotlib.pyplot as plt\n",
    "import torch\n",
    "from torch import nn, optim\n",
    "from torch.utils.data import DataLoader\n",
    "import torchvision\n",
    "import torchvision.transforms as T\n",
    "from tqdm import tqdm\n",
    "\n",
    "from probly.losses import EvidentialKLDivergence, EvidentialLogLoss\n",
    "from probly.quantification.classification import evidential_uncertainty\n",
    "from probly.representation.classification import Evidential"
   ]
  },
  {
   "cell_type": "code",
   "execution_count": 2,
   "id": "e0b2a7b8cd7209d4",
   "metadata": {
    "ExecuteTime": {
     "end_time": "2025-03-24T15:21:13.574551Z",
     "start_time": "2025-03-24T15:21:13.553341Z"
    }
   },
   "outputs": [],
   "source": [
    "train = torchvision.datasets.FashionMNIST(root=\"~/datasets\", train=True, download=True, transform=T.ToTensor())\n",
    "test = torchvision.datasets.FashionMNIST(root=\"~/datasets\", train=False, download=True, transform=T.ToTensor())\n",
    "train_loader = DataLoader(train, batch_size=256, shuffle=True)\n",
    "test_loader = DataLoader(test, batch_size=256, shuffle=False)"
   ]
  },
  {
   "cell_type": "code",
   "execution_count": null,
   "id": "d468c00a38a2a170",
   "metadata": {},
   "outputs": [],
   "source": [
    "class LeNet(nn.Module):\n",
    "    \"\"\"Implementation of a model with LeNet architecture.\n",
    "\n",
    "    Attributes:\n",
    "        conv1: nn.Module, first convolutional layer\n",
    "        conv2: nn.Module, second convolutional layer\n",
    "        fc1: nn.Module, first fully connected layer\n",
    "        fc2: nn.Module, second fully connected layer\n",
    "        act: nn.Module, activation function\n",
    "        max_pool: nn.Module, max pooling layer\n",
    "    \"\"\"\n",
    "\n",
    "    def __init__(self) -> None:\n",
    "        \"\"\"Initializes an instance of the LeNet class.\"\"\"\n",
    "        super().__init__()\n",
    "        self.conv1 = nn.Conv2d(1, 8, kernel_size=5)\n",
    "        self.conv2 = nn.Conv2d(8, 16, kernel_size=5)\n",
    "        self.fc1 = nn.Linear(256, 128)\n",
    "        self.fc2 = nn.Linear(128, 10)\n",
    "        self.act = nn.ReLU()\n",
    "        self.max_pool = nn.MaxPool2d(2)\n",
    "\n",
    "    def forward(self, x: torch.Tensor) -> torch.Tensor:\n",
    "        \"\"\"Forward pass of the LeNet.\n",
    "\n",
    "        Args:\n",
    "            x: torch.Tensor, input data\n",
    "        Returns:\n",
    "            torch.Tensor, output data\n",
    "        \"\"\"\n",
    "        x = self.act(self.max_pool(self.conv1(x)))\n",
    "        x = self.act(self.max_pool(self.conv2(x)))\n",
    "        x = torch.flatten(x, 1)\n",
    "        x = self.act(self.fc1(x))\n",
    "        x = self.fc2(x)\n",
    "        return x\n",
    "\n",
    "\n",
    "net = LeNet()"
   ]
  },
  {
   "cell_type": "code",
   "execution_count": null,
   "id": "a78ab3b9f9076abc",
   "metadata": {},
   "outputs": [],
   "source": [
    "model = Evidential(net)"
   ]
  },
  {
   "cell_type": "code",
   "execution_count": 5,
   "id": "a1165fc8127c704f",
   "metadata": {
    "ExecuteTime": {
     "end_time": "2025-03-24T15:23:21.246464Z",
     "start_time": "2025-03-24T15:21:13.627016Z"
    }
   },
   "outputs": [
    {
     "name": "stderr",
     "output_type": "stream",
     "text": [
      "100%|██████████| 20/20 [02:07<00:00,  6.36s/it]\n"
     ]
    },
    {
     "name": "stdout",
     "output_type": "stream",
     "text": [
      "Accuracy: 0.8652999997138977\n"
     ]
    }
   ],
   "source": [
    "optimizer = optim.Adam(model.parameters())\n",
    "criterion = EvidentialLogLoss()\n",
    "regularization = EvidentialKLDivergence()\n",
    "for epoch in tqdm(range(20)):\n",
    "    model.train()\n",
    "    for inputs, targets in train_loader:\n",
    "        optimizer.zero_grad()\n",
    "        outputs = model(inputs)\n",
    "        lmbda = min(1.0, epoch / 10)\n",
    "        loss = criterion(outputs, targets) + lmbda * regularization(outputs, targets)\n",
    "        loss.backward()\n",
    "        optimizer.step()\n",
    "\n",
    "# compute accuracy on test set\n",
    "correct = 0\n",
    "total = 0\n",
    "model.eval()\n",
    "for inputs, targets in test_loader:\n",
    "    outputs = model(inputs)\n",
    "    correct += (outputs.argmax(1) == targets).sum()\n",
    "    total += targets.size(0)\n",
    "print(f\"Accuracy: {correct / total}\")"
   ]
  },
  {
   "cell_type": "code",
   "execution_count": 8,
   "id": "5bef5fd7e0adf97",
   "metadata": {
    "ExecuteTime": {
     "end_time": "2025-03-24T15:23:36.127270Z",
     "start_time": "2025-03-24T15:23:36.046231Z"
    }
   },
   "outputs": [
    {
     "data": {
      "image/png": "[encoded data removed]",
      "text/plain": [
       "<Figure size 640x480 with 1 Axes>"
      ]
     },
     "metadata": {},
     "output_type": "display_data"
    }
   ],
   "source": [
    "# rotate image from the test set and compute the uncertainty\n",
    "image = test[0][0]\n",
    "images = []\n",
    "for angle in range(0, 360, 1):\n",
    "    images.append(T.functional.rotate(image, angle))\n",
    "images = torch.stack(images)\n",
    "preds = model(images).detach().cpu().numpy()\n",
    "uncertainties = evidential_uncertainty(preds)\n",
    "plt.plot(range(0, 360, 1), uncertainties)\n",
    "plt.xlabel(\"Rotation angle\")\n",
    "plt.ylabel(\"Uncertainty\")\n",
    "plt.show()"
   ]
  }
 ],
 "metadata": {
  "kernelspec": {
   "display_name": "Python 3",
   "language": "python",
   "name": "python3"
  },
  "language_info": {
   "codemirror_mode": {
    "name": "ipython",
    "version": 2
   },
   "file_extension": ".py",
   "mimetype": "text/x-python",
   "name": "python",
   "nbconvert_exporter": "python",
   "pygments_lexer": "ipython2",
   "version": "2.7.6"
  }
 },
 "nbformat": 4,
 "nbformat_minor": 5
}
