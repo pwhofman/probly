{
 "cells": [
  {
   "cell_type": "code",
   "execution_count": 1,
   "id": "af9ba3c1",
   "metadata": {},
   "outputs": [],
   "source": [
    "%load_ext autoreload\n",
    "%autoreload 2"
   ]
  },
  {
   "cell_type": "code",
   "execution_count": 2,
   "id": "5a090940",
   "metadata": {},
   "outputs": [],
   "source": [
    "class A:\n",
    "    class A:\n",
    "        \"\"\"A test class.\"\"\"\n",
    "\n",
    "\n",
    "class B:\n",
    "    class B:\n",
    "        \"\"\"A test class.\"\"\"\n",
    "\n",
    "\n",
    "class C(A):\n",
    "    class C(A.A):\n",
    "        \"\"\"A test class.\"\"\"\n",
    "\n",
    "\n",
    "class D(A, B):\n",
    "    pass\n",
    "\n",
    "\n",
    "class E(C, D):\n",
    "    pass"
   ]
  },
  {
   "cell_type": "code",
   "execution_count": null,
   "id": "458266bd",
   "metadata": {},
   "outputs": [
    {
     "data": {
      "text/plain": [
       "torch.Tensor"
      ]
     },
     "execution_count": 24,
     "metadata": {},
     "output_type": "execute_result"
    }
   ],
   "source": [
    "import torch\n",
    "\n",
    "torch.nn.Module"
   ]
  },
  {
   "cell_type": "code",
   "execution_count": 29,
   "id": "99f8fb2c",
   "metadata": {},
   "outputs": [
    {
     "data": {
      "text/plain": [
       "True"
      ]
     },
     "execution_count": 29,
     "metadata": {},
     "output_type": "execute_result"
    }
   ],
   "source": [
    "from lazy_dispatch.isinstance import lazy_isinstance\n",
    "\n",
    "t = torch.tensor([1, 2, 3])\n",
    "lazy_isinstance(t, \"torch.Tensor\")"
   ]
  },
  {
   "cell_type": "code",
   "execution_count": null,
   "id": "149b8309",
   "metadata": {},
   "outputs": [],
   "source": [
    "from typing import TYPE_CHECKING\n",
    "\n",
    "import lazy_dispatch as ld\n",
    "\n",
    "if TYPE_CHECKING:\n",
    "    import keras  # type: ignore  # noqa: PGH003\n",
    "    import torch\n",
    "\n",
    "\n",
    "@ld.lazy_singledispatch\n",
    "def f(_: object) -> str:\n",
    "    return \"unknown\"\n",
    "\n",
    "\n",
    "@f.register\n",
    "def _(_: int) -> str:\n",
    "    return \"int\"\n",
    "\n",
    "\n",
    "@f.register\n",
    "def _(_: \"torch.nn.modules.module.Module\") -> str:\n",
    "    return \"torch module\"\n",
    "\n",
    "\n",
    "@f.register\n",
    "def _(_: \"torch.nn.modules.linear.Linear\") -> str:\n",
    "    return \"torch linear\"\n",
    "\n",
    "\n",
    "@f.register\n",
    "def _(_: \"keras.engine.training.Model\") -> str:\n",
    "    return \"keras model\"\n",
    "\n",
    "\n",
    "@f.register\n",
    "def _(_: A) -> str:\n",
    "    return \"A\"\n",
    "\n",
    "\n",
    "@f.register\n",
    "def _(_: \"__main__.B\") -> str:  # type: ignore  # noqa: F821, PGH003\n",
    "    return \"B\"\n",
    "\n",
    "\n",
    "@f.register\n",
    "def _(_: E) -> str:\n",
    "    return \"E\""
   ]
  },
  {
   "cell_type": "code",
   "execution_count": 4,
   "id": "d6dfb9cd",
   "metadata": {},
   "outputs": [
    {
     "data": {
      "text/plain": [
       "{'_': object, 'return': str}"
      ]
     },
     "execution_count": 4,
     "metadata": {},
     "output_type": "execute_result"
    }
   ],
   "source": [
    "f.__annotations__"
   ]
  },
  {
   "cell_type": "code",
   "execution_count": null,
   "id": "7af81c92",
   "metadata": {},
   "outputs": [
    {
     "name": "stdout",
     "output_type": "stream",
     "text": [
      "42 int\n",
      "1.5 unknown\n",
      "linear: torch linear\n",
      "seq: torch module\n",
      "A: A\n",
      "B: B\n",
      "C: A\n",
      "D: A\n",
      "E: E\n"
     ]
    }
   ],
   "source": [
    "import torch.nn\n",
    "\n",
    "layer = torch.nn.Linear(10, 10)\n",
    "seq = torch.nn.Sequential(layer, layer)\n",
    "\n",
    "print(42, f(42))\n",
    "print(1.5, f(1.5))\n",
    "print(\"linear:\", f(layer))\n",
    "print(\"seq:\", f(seq))\n",
    "print(\"A:\", f(A()))\n",
    "print(\"B:\", f(B()))\n",
    "print(\"C:\", f(C()))\n",
    "print(\"D:\", f(D()))\n",
    "print(\"E:\", f(E()))"
   ]
  },
  {
   "cell_type": "code",
   "execution_count": null,
   "id": "f35cfff2",
   "metadata": {},
   "outputs": [
    {
     "data": {
      "text/plain": [
       "mappingproxy({'keras.engine.training.Model': <function __main__._(_: 'keras.engine.training.Model') -> str>})"
      ]
     },
     "execution_count": 20,
     "metadata": {},
     "output_type": "execute_result"
    }
   ],
   "source": [
    "f.string_registry"
   ]
  }
 ],
 "metadata": {
  "kernelspec": {
   "display_name": "uncertainty-toolkit",
   "language": "python",
   "name": "python3"
  },
  "language_info": {
   "codemirror_mode": {
    "name": "ipython",
    "version": 3
   },
   "file_extension": ".py",
   "mimetype": "text/x-python",
   "name": "python",
   "nbconvert_exporter": "python",
   "pygments_lexer": "ipython3",
   "version": "3.13.1"
  }
 },
 "nbformat": 4,
 "nbformat_minor": 5
}
