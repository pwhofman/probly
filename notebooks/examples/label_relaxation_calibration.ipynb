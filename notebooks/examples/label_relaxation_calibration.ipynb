{
 "cells": [
  {
   "cell_type": "markdown",
   "id": "5bf81bd31800bab7",
   "metadata": {},
   "source": [
    "# Calibration with Label Relaxation\n",
    "This notebook gives an example of how to use the Label Relaxation loss from https://ojs.aaai.org/index.php/AAAI/article/view/17041 to improve the calibration of a neural network. The example uses the FashionMNIST dataset and a LeNet architecture."
   ]
  },
  {
   "cell_type": "code",
   "execution_count": 1,
   "id": "initial_id",
   "metadata": {
    "ExecuteTime": {
     "end_time": "2025-04-10T14:20:25.656926Z",
     "start_time": "2025-04-10T14:20:24.168885Z"
    },
    "collapsed": true
   },
   "outputs": [
    {
     "name": "stdout",
     "output_type": "stream",
     "text": [
      "Using device: mps\n"
     ]
    }
   ],
   "source": [
    "import torch\n",
    "from torch import nn, optim\n",
    "import torch.nn.functional as F\n",
    "from torch.utils.data import DataLoader\n",
    "import torchvision\n",
    "import torchvision.transforms as T\n",
    "from tqdm import tqdm\n",
    "\n",
    "from probly.evaluation.metrics import expected_calibration_error\n",
    "from probly.train.losses import LabelRelaxationLoss\n",
    "\n",
    "device = torch.device(\"cuda:0\" if torch.cuda.is_available() else \"mps\" if torch.backends.mps.is_available() else \"cpu\")\n",
    "print(f\"Using device: {device}\")"
   ]
  },
  {
   "cell_type": "markdown",
   "id": "908c5bc5b6818305",
   "metadata": {},
   "source": "## Load data"
  },
  {
   "cell_type": "code",
   "execution_count": 2,
   "id": "7e25f0ec8f1373e0",
   "metadata": {
    "ExecuteTime": {
     "end_time": "2025-04-10T14:20:25.682495Z",
     "start_time": "2025-04-10T14:20:25.660296Z"
    }
   },
   "outputs": [],
   "source": [
    "transforms = T.Compose([T.ToTensor()])\n",
    "train = torchvision.datasets.FashionMNIST(root=\"~/datasets\", train=True, download=True, transform=transforms)\n",
    "test = torchvision.datasets.FashionMNIST(root=\"~/datasets\", train=False, download=True, transform=transforms)\n",
    "train_loader = DataLoader(train, batch_size=256, shuffle=True)\n",
    "test_loader = DataLoader(test, batch_size=256, shuffle=False)"
   ]
  },
  {
   "cell_type": "markdown",
   "id": "688750ce0273f800",
   "metadata": {},
   "source": "## Define neural network"
  },
  {
   "cell_type": "code",
   "execution_count": 3,
   "id": "7f4b944c3d44ad84",
   "metadata": {
    "ExecuteTime": {
     "end_time": "2025-04-10T14:20:25.816253Z",
     "start_time": "2025-04-10T14:20:25.804702Z"
    }
   },
   "outputs": [],
   "source": [
    "class LeNet(nn.Module):\n",
    "    \"\"\"Implementation of a model with LeNet architecture.\n",
    "\n",
    "    Attributes:\n",
    "        conv1: nn.Module, first convolutional layer\n",
    "        conv2: nn.Module, second convolutional layer\n",
    "        fc1: nn.Module, first fully connected layer\n",
    "        fc2: nn.Module, second fully connected layer\n",
    "        act: nn.Module, activation function\n",
    "        max_pool: nn.Module, max pooling layer\n",
    "    \"\"\"\n",
    "\n",
    "    def __init__(self) -> None:\n",
    "        \"\"\"Initializes an instance of the LeNet class.\"\"\"\n",
    "        super().__init__()\n",
    "        self.conv1 = nn.Conv2d(1, 8, kernel_size=5)\n",
    "        self.conv2 = nn.Conv2d(8, 16, kernel_size=5)\n",
    "        self.fc1 = nn.Linear(256, 128)\n",
    "        self.fc2 = nn.Linear(128, 10)\n",
    "        self.act = nn.ReLU()\n",
    "        self.max_pool = nn.MaxPool2d(2)\n",
    "\n",
    "    def forward(self, x: torch.Tensor) -> torch.Tensor:\n",
    "        \"\"\"Forward pass of the LeNet.\n",
    "\n",
    "        Args:\n",
    "            x: torch.Tensor, input data\n",
    "        Returns:\n",
    "            torch.Tensor, output data\n",
    "        \"\"\"\n",
    "        x = self.act(self.max_pool(self.conv1(x)))\n",
    "        x = self.act(self.max_pool(self.conv2(x)))\n",
    "        x = torch.flatten(x, 1)\n",
    "        x = self.act(self.fc1(x))\n",
    "        x = self.fc2(x)\n",
    "        return x\n",
    "\n",
    "\n",
    "net = LeNet().to(device)"
   ]
  },
  {
   "cell_type": "markdown",
   "id": "8ecaa4dcff0c61db",
   "metadata": {},
   "source": "## Train the neural network using Label Relaxation"
  },
  {
   "cell_type": "code",
   "execution_count": 4,
   "id": "2e22bffb01592ecf",
   "metadata": {
    "ExecuteTime": {
     "end_time": "2025-04-10T14:21:04.467547Z",
     "start_time": "2025-04-10T14:20:25.822039Z"
    }
   },
   "outputs": [
    {
     "name": "stderr",
     "output_type": "stream",
     "text": [
      " 10%|█         | 1/10 [00:04<00:37,  4.16s/it]"
     ]
    },
    {
     "name": "stdout",
     "output_type": "stream",
     "text": [
      "Epoch 1, Running loss: 0.5653787719442489\n"
     ]
    },
    {
     "name": "stderr",
     "output_type": "stream",
     "text": [
      " 20%|██        | 2/10 [00:07<00:31,  3.88s/it]"
     ]
    },
    {
     "name": "stdout",
     "output_type": "stream",
     "text": [
      "Epoch 2, Running loss: 0.31656167754467496\n"
     ]
    },
    {
     "name": "stderr",
     "output_type": "stream",
     "text": [
      " 30%|███       | 3/10 [00:11<00:26,  3.84s/it]"
     ]
    },
    {
     "name": "stdout",
     "output_type": "stream",
     "text": [
      "Epoch 3, Running loss: 0.2688496538933287\n"
     ]
    },
    {
     "name": "stderr",
     "output_type": "stream",
     "text": [
      " 40%|████      | 4/10 [00:15<00:22,  3.83s/it]"
     ]
    },
    {
     "name": "stdout",
     "output_type": "stream",
     "text": [
      "Epoch 4, Running loss: 0.24309681076952752\n"
     ]
    },
    {
     "name": "stderr",
     "output_type": "stream",
     "text": [
      " 50%|█████     | 5/10 [00:19<00:18,  3.80s/it]"
     ]
    },
    {
     "name": "stdout",
     "output_type": "stream",
     "text": [
      "Epoch 5, Running loss: 0.2275508500794147\n"
     ]
    },
    {
     "name": "stderr",
     "output_type": "stream",
     "text": [
      " 60%|██████    | 6/10 [00:22<00:15,  3.77s/it]"
     ]
    },
    {
     "name": "stdout",
     "output_type": "stream",
     "text": [
      "Epoch 6, Running loss: 0.21468015015125275\n"
     ]
    },
    {
     "name": "stderr",
     "output_type": "stream",
     "text": [
      " 70%|███████   | 7/10 [00:26<00:11,  3.78s/it]"
     ]
    },
    {
     "name": "stdout",
     "output_type": "stream",
     "text": [
      "Epoch 7, Running loss: 0.2035592128621771\n"
     ]
    },
    {
     "name": "stderr",
     "output_type": "stream",
     "text": [
      " 80%|████████  | 8/10 [00:30<00:07,  3.77s/it]"
     ]
    },
    {
     "name": "stdout",
     "output_type": "stream",
     "text": [
      "Epoch 8, Running loss: 0.19679444286417455\n"
     ]
    },
    {
     "name": "stderr",
     "output_type": "stream",
     "text": [
      " 90%|█████████ | 9/10 [00:34<00:03,  3.76s/it]"
     ]
    },
    {
     "name": "stdout",
     "output_type": "stream",
     "text": [
      "Epoch 9, Running loss: 0.1865393954388639\n"
     ]
    },
    {
     "name": "stderr",
     "output_type": "stream",
     "text": [
      "100%|██████████| 10/10 [00:38<00:00,  3.81s/it]\n"
     ]
    },
    {
     "name": "stdout",
     "output_type": "stream",
     "text": [
      "Epoch 10, Running loss: 0.179943670395841\n"
     ]
    },
    {
     "name": "stderr",
     "output_type": "stream",
     "text": [
      "100%|██████████| 40/40 [00:00<00:00, 75.43it/s]"
     ]
    },
    {
     "name": "stdout",
     "output_type": "stream",
     "text": [
      "Accuracy: 0.8763\n",
      "Expected Calibration Error: 0.04056899726688862\n"
     ]
    },
    {
     "name": "stderr",
     "output_type": "stream",
     "text": [
      "\n"
     ]
    }
   ],
   "source": [
    "epochs = 10\n",
    "optimizer = optim.Adam(net.parameters())\n",
    "criterion = LabelRelaxationLoss(alpha=0.1)\n",
    "for epoch in tqdm(range(epochs)):\n",
    "    net.train()\n",
    "    running_loss = 0.0\n",
    "    for inputs, targets in train_loader:\n",
    "        optimizer.zero_grad()\n",
    "        outputs = net(inputs.to(device))\n",
    "        loss = criterion(outputs, targets.to(device))\n",
    "        loss.backward()\n",
    "        optimizer.step()\n",
    "        running_loss += loss.item()\n",
    "\n",
    "    print(f\"Epoch {epoch + 1}, Running loss: {running_loss / len(train_loader)}\")\n",
    "\n",
    "# compute accuracy and expected calibration error on test set\n",
    "net.eval()\n",
    "with torch.no_grad():\n",
    "    outputs = torch.empty(0, device=device)\n",
    "    targets = torch.empty(0, device=device)\n",
    "    for inpt, target in tqdm(test_loader):\n",
    "        outputs = torch.cat((outputs, net(inpt.to(device))), dim=0)\n",
    "        targets = torch.cat((targets, target.to(device)), dim=0)\n",
    "outputs = F.softmax(outputs, dim=1)\n",
    "correct = torch.sum(torch.argmax(outputs, dim=1) == targets).item()\n",
    "total = targets.size(0)\n",
    "ece = expected_calibration_error(outputs.cpu().numpy(), targets.cpu().numpy(), num_bins=10)\n",
    "print(f\"Accuracy: {correct / total}\")\n",
    "print(f\"Expected Calibration Error: {ece}\")"
   ]
  }
 ],
 "metadata": {
  "kernelspec": {
   "display_name": "Python 3",
   "language": "python",
   "name": "python3"
  },
  "language_info": {
   "codemirror_mode": {
    "name": "ipython",
    "version": 2
   },
   "file_extension": ".py",
   "mimetype": "text/x-python",
   "name": "python",
   "nbconvert_exporter": "python",
   "pygments_lexer": "ipython2",
   "version": "2.7.6"
  }
 },
 "nbformat": 4,
 "nbformat_minor": 5
}
