{
 "cells": [
  {
   "cell_type": "markdown",
   "id": "475cbf6a90b12211",
   "metadata": {},
   "source": [
    "# Evidential Regression Model\n",
    "Train an evidential regression model following the setup from https://arxiv.org/abs/1910.02600."
   ]
  },
  {
   "cell_type": "code",
   "id": "initial_id",
   "metadata": {
    "collapsed": true,
    "ExecuteTime": {
     "end_time": "2025-10-20T11:27:46.993408Z",
     "start_time": "2025-10-20T11:27:44.816771Z"
    }
   },
   "source": [
    "import matplotlib.pyplot as plt\n",
    "import numpy as np\n",
    "import torch\n",
    "from torch import nn, optim\n",
    "from torch.utils.data import DataLoader, TensorDataset\n",
    "from tqdm import tqdm\n",
    "\n",
    "from probly.losses import EvidentialNIGNLLLoss, EvidentialRegressionRegularization\n",
    "from probly.transformation.evidential.regression import evidential_regression"
   ],
   "outputs": [],
   "execution_count": 1
  },
  {
   "cell_type": "markdown",
   "id": "cf36908f5dc443bc",
   "metadata": {},
   "source": "### Generate synthetic data"
  },
  {
   "cell_type": "code",
   "id": "49ecc25c9c29548a",
   "metadata": {
    "ExecuteTime": {
     "end_time": "2025-10-20T11:27:47.000702Z",
     "start_time": "2025-10-20T11:27:46.997297Z"
    }
   },
   "source": [
    "def f(x: np.ndarray) -> np.ndarray:\n",
    "    \"\"\"Cubic function to generate synthetic data.\n",
    "\n",
    "    Args:\n",
    "        x: numpy.ndarray, input data\n",
    "    Returns:\n",
    "        y: numpy.ndarray, output data\n",
    "    \"\"\"\n",
    "    eps = np.random.normal(0, 3, x.shape)\n",
    "    return x**3 + eps\n",
    "\n",
    "\n",
    "X_train = np.random.uniform(-4, 4, 500)\n",
    "X_test = np.random.uniform(-6, 6, 250)\n",
    "y_train = f(X_train)\n",
    "y_test = f(X_test)\n",
    "X_train = torch.from_numpy(X_train).float().view(-1, 1)\n",
    "X_test = torch.from_numpy(X_test).float().view(-1, 1)\n",
    "y_train = torch.from_numpy(y_train).float().view(-1, 1)\n",
    "y_test = torch.from_numpy(y_test).float().view(-1, 1)\n",
    "train = TensorDataset(X_train, y_train)\n",
    "test = TensorDataset(X_test, y_test)\n",
    "train_loader = DataLoader(train, batch_size=128, shuffle=True)\n",
    "test_loader = DataLoader(test, batch_size=128, shuffle=False)"
   ],
   "outputs": [],
   "execution_count": 2
  },
  {
   "cell_type": "markdown",
   "id": "ee767b8be4cbcb1b",
   "metadata": {},
   "source": "### Define a neural network"
  },
  {
   "cell_type": "code",
   "id": "e4b3ac2f56e53b6a",
   "metadata": {
    "ExecuteTime": {
     "end_time": "2025-10-20T11:27:47.015062Z",
     "start_time": "2025-10-20T11:27:47.011082Z"
    }
   },
   "source": [
    "class Net(nn.Module):\n",
    "    \"\"\"Simple Neural Network class.\n",
    "\n",
    "    Attributes:\n",
    "        fc1: nn.Module, first fully connected layer\n",
    "        fc2: nn.Module, second fully connected layer\n",
    "        fc3: nn.Module, third fully connected layer\n",
    "        fc4: nn.Module, fourth fully connected layer\n",
    "        act: nn.Module, activation function\n",
    "    \"\"\"\n",
    "\n",
    "    def __init__(self) -> None:\n",
    "        \"\"\"Initializes an instance of the Net class.\"\"\"\n",
    "        super().__init__()\n",
    "        self.fc1 = nn.Linear(1, 100)\n",
    "        self.fc2 = nn.Linear(100, 100)\n",
    "        self.fc3 = nn.Linear(100, 100)\n",
    "        self.fc4 = nn.Linear(100, 1)\n",
    "        self.act = nn.ReLU()\n",
    "\n",
    "    def forward(self, x: torch.Tensor) -> torch.Tensor:\n",
    "        \"\"\"Forward pass of the neural network.\n",
    "\n",
    "        Args:\n",
    "            x: torch.Tensor, input data\n",
    "        Returns:\n",
    "            torch.Tensor, output data\n",
    "        \"\"\"\n",
    "        x = self.act(self.fc1(x))\n",
    "        x = self.act(self.fc2(x))\n",
    "        x = self.act(self.fc3(x))\n",
    "        x = self.fc4(x)\n",
    "        return x\n",
    "\n",
    "\n",
    "net = Net()"
   ],
   "outputs": [],
   "execution_count": 3
  },
  {
   "cell_type": "markdown",
   "id": "9d07153b66c2c57d",
   "metadata": {},
   "source": "### Transform it into an evidential regression model"
  },
  {
   "cell_type": "code",
   "id": "d5ec677838615966",
   "metadata": {
    "ExecuteTime": {
     "end_time": "2025-10-20T11:27:47.025643Z",
     "start_time": "2025-10-20T11:27:47.017977Z"
    }
   },
   "source": [
    "model = evidential_regression(net)\n",
    "print(model)"
   ],
   "outputs": [
    {
     "name": "stdout",
     "output_type": "stream",
     "text": [
      "Net(\n",
      "  (fc1): Linear(in_features=1, out_features=100, bias=True)\n",
      "  (fc2): Linear(in_features=100, out_features=100, bias=True)\n",
      "  (fc3): Linear(in_features=100, out_features=100, bias=True)\n",
      "  (fc4): NormalInverseGammaLinear()\n",
      "  (act): ReLU()\n",
      ")\n"
     ]
    }
   ],
   "execution_count": 4
  },
  {
   "cell_type": "markdown",
   "id": "3cd5e48ce7e8d2b3",
   "metadata": {},
   "source": "### Train the network with the evidential loss and regularization"
  },
  {
   "cell_type": "code",
   "id": "6c330b725773716d",
   "metadata": {
    "ExecuteTime": {
     "end_time": "2025-10-20T11:27:49.344399Z",
     "start_time": "2025-10-20T11:27:47.035690Z"
    }
   },
   "source": [
    "optimizer = optim.Adam(model.parameters(), 5e-3)\n",
    "criterion = EvidentialNIGNLLLoss()\n",
    "regularization = EvidentialRegressionRegularization()\n",
    "lmbda = 0.01\n",
    "for _ in tqdm(range(500)):\n",
    "    model.train()\n",
    "    for inputs, targets in train_loader:\n",
    "        optimizer.zero_grad()\n",
    "        outputs = model(inputs)\n",
    "        loss = criterion(outputs, targets) + lmbda * regularization(outputs, targets)\n",
    "        loss.backward()\n",
    "        optimizer.step()\n",
    "\n",
    "# compute MSE on test set\n",
    "squared_error = 0\n",
    "total = 0\n",
    "model.eval()\n",
    "for inputs, targets in test_loader:\n",
    "    outputs = model(inputs)\n",
    "    squared_error += torch.sum((outputs[\"gamma\"] - targets) ** 2)\n",
    "    total += targets.size(0)\n",
    "print(f\"MSE: {squared_error / total}\")"
   ],
   "outputs": [
    {
     "name": "stderr",
     "output_type": "stream",
     "text": [
      "100%|██████████| 500/500 [00:02<00:00, 218.45it/s]"
     ]
    },
    {
     "name": "stdout",
     "output_type": "stream",
     "text": [
      "MSE: 287.8296813964844\n"
     ]
    },
    {
     "name": "stderr",
     "output_type": "stream",
     "text": [
      "\n"
     ]
    }
   ],
   "execution_count": 5
  },
  {
   "cell_type": "markdown",
   "id": "16eaaa4bed109db3",
   "metadata": {},
   "source": "### Plot the predictions and the targets"
  },
  {
   "cell_type": "code",
   "id": "46a5e09bf000c325",
   "metadata": {
    "ExecuteTime": {
     "end_time": "2025-10-20T11:27:49.502132Z",
     "start_time": "2025-10-20T11:27:49.414041Z"
    }
   },
   "source": [
    "plt.scatter(X_test, y_test, label=\"Targets\", c=\"darkgreen\")\n",
    "preds = model(X_test)[\"gamma\"].detach().numpy()\n",
    "plt.scatter(X_test, preds, label=\"Predicted\", c=\"darkorange\")\n",
    "plt.legend()\n",
    "plt.show()"
   ],
   "outputs": [
    {
     "data": {
      "text/plain": [
       "<Figure size 640x480 with 1 Axes>"
      ],
      "image/png": "[encoded data removed]"
     },
     "metadata": {},
     "output_type": "display_data",
     "jetTransient": {
      "display_id": null
     }
    }
   ],
   "execution_count": 6
  }
 ],
 "metadata": {
  "kernelspec": {
   "display_name": "Python 3",
   "language": "python",
   "name": "python3"
  },
  "language_info": {
   "codemirror_mode": {
    "name": "ipython",
    "version": 2
   },
   "file_extension": ".py",
   "mimetype": "text/x-python",
   "name": "python",
   "nbconvert_exporter": "python",
   "pygments_lexer": "ipython2",
   "version": "2.7.6"
  }
 },
 "nbformat": 4,
 "nbformat_minor": 5
}
