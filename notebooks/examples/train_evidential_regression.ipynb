{
 "cells": [
  {
   "cell_type": "markdown",
   "id": "475cbf6a90b12211",
   "metadata": {},
   "source": "Train an evidential regression model following the setup from https://arxiv.org/abs/1910.02600."
  },
  {
   "cell_type": "code",
   "execution_count": 1,
   "id": "initial_id",
   "metadata": {
    "ExecuteTime": {
     "end_time": "2025-03-26T20:11:00.396111Z",
     "start_time": "2025-03-26T20:10:58.736501Z"
    },
    "collapsed": true
   },
   "outputs": [],
   "source": [
    "import matplotlib.pyplot as plt\n",
    "import numpy as np\n",
    "import torch\n",
    "import torch.nn as nn\n",
    "import torch.optim as optim\n",
    "from torch.utils.data import DataLoader, TensorDataset\n",
    "from tqdm import tqdm\n",
    "\n",
    "from probly.losses import EvidentialNIGNLLLoss, EvidentialRegressionRegularization\n",
    "from probly.representation.regression import Evidential"
   ]
  },
  {
   "cell_type": "markdown",
   "id": "cf36908f5dc443bc",
   "metadata": {},
   "source": "### Generate synthetic data"
  },
  {
   "cell_type": "code",
   "execution_count": 2,
   "id": "1825708597132d18",
   "metadata": {
    "ExecuteTime": {
     "end_time": "2025-03-26T20:11:00.469545Z",
     "start_time": "2025-03-26T20:11:00.402329Z"
    }
   },
   "outputs": [],
   "source": [
    "def f(x):\n",
    "    eps = np.random.normal(0, 3, x.shape)\n",
    "    return x ** 3 + eps\n",
    "X_train = np.random.uniform(-4, 4, 500)\n",
    "X_test = np.random.uniform(-6, 6, 250)\n",
    "X_train = X_train\n",
    "X_test = X_test\n",
    "y_train = f(X_train)\n",
    "y_test = f(X_test)\n",
    "X_train = torch.from_numpy(X_train).float().view(-1, 1)\n",
    "X_test = torch.from_numpy(X_test).float().view(-1, 1)\n",
    "y_train = torch.from_numpy(y_train).float().view(-1, 1)\n",
    "y_test = torch.from_numpy(y_test).float().view(-1, 1)\n",
    "train = TensorDataset(X_train, y_train)\n",
    "test = TensorDataset(X_test, y_test)\n",
    "train_loader = DataLoader(train, batch_size=128, shuffle=True)\n",
    "test_loader = DataLoader(test, batch_size=128, shuffle=False)"
   ]
  },
  {
   "cell_type": "markdown",
   "id": "ee767b8be4cbcb1b",
   "metadata": {},
   "source": "### Define a neural network"
  },
  {
   "cell_type": "code",
   "execution_count": 3,
   "id": "43ca577ba9e58955",
   "metadata": {
    "ExecuteTime": {
     "end_time": "2025-03-26T20:11:00.729490Z",
     "start_time": "2025-03-26T20:11:00.685064Z"
    }
   },
   "outputs": [],
   "source": [
    "class Net(nn.Module):\n",
    "    def __init__(self):\n",
    "        super().__init__()\n",
    "        self.fc1 = nn.Linear(1, 100)\n",
    "        self.fc2 = nn.Linear(100, 100)\n",
    "        self.fc3 = nn.Linear(100, 100)\n",
    "        self.fc4 = nn.Linear(100, 1)\n",
    "        self.act = nn.ReLU()\n",
    "\n",
    "    def forward(self, x):\n",
    "        x = self.act(self.fc1(x))\n",
    "        x = self.act(self.fc2(x))\n",
    "        x = self.act(self.fc3(x))\n",
    "        x = self.fc4(x)\n",
    "        return x\n",
    "\n",
    "net = Net()"
   ]
  },
  {
   "cell_type": "markdown",
   "id": "9d07153b66c2c57d",
   "metadata": {},
   "source": "### Transform it into an evidential regression model"
  },
  {
   "cell_type": "code",
   "execution_count": 4,
   "id": "d5ec677838615966",
   "metadata": {
    "ExecuteTime": {
     "end_time": "2025-03-26T20:11:00.801396Z",
     "start_time": "2025-03-26T20:11:00.794803Z"
    }
   },
   "outputs": [],
   "source": [
    "model = Evidential(net)"
   ]
  },
  {
   "cell_type": "markdown",
   "id": "3cd5e48ce7e8d2b3",
   "metadata": {},
   "source": "### Train the network with the evidential loss and regularization"
  },
  {
   "cell_type": "code",
   "execution_count": 5,
   "id": "4128e6d4332e6fb9",
   "metadata": {
    "ExecuteTime": {
     "end_time": "2025-03-26T20:11:14.295178Z",
     "start_time": "2025-03-26T20:11:00.826569Z"
    }
   },
   "outputs": [
    {
     "name": "stderr",
     "output_type": "stream",
     "text": [
      "100%|██████████| 500/500 [00:12<00:00, 39.98it/s]"
     ]
    },
    {
     "name": "stdout",
     "output_type": "stream",
     "text": [
      "MSE: 357.46697998046875\n"
     ]
    },
    {
     "name": "stderr",
     "output_type": "stream",
     "text": [
      "\n"
     ]
    }
   ],
   "source": [
    "optimizer = optim.Adam(model.parameters(), 5e-3)\n",
    "criterion = EvidentialNIGNLLLoss()\n",
    "regularization = EvidentialRegressionRegularization()\n",
    "lmbda = 0.01\n",
    "for epoch in tqdm(range(500)):\n",
    "    model.train()\n",
    "    for inputs, targets in train_loader:\n",
    "        optimizer.zero_grad()\n",
    "        outputs = model(inputs)\n",
    "        loss = criterion(outputs, targets) + lmbda * regularization(outputs, targets)\n",
    "        loss.backward()\n",
    "        optimizer.step()\n",
    "\n",
    "# compute MSE on test set\n",
    "squared_error = 0\n",
    "total = 0\n",
    "model.eval()\n",
    "for inputs, targets in test_loader:\n",
    "    outputs = model(inputs)\n",
    "    squared_error += torch.sum((outputs['gamma'] - targets) ** 2)\n",
    "    total += targets.size(0)\n",
    "print(f\"MSE: {squared_error / total}\")"
   ]
  },
  {
   "cell_type": "markdown",
   "id": "16eaaa4bed109db3",
   "metadata": {},
   "source": "### Plot the predictions and the targets"
  },
  {
   "cell_type": "code",
   "execution_count": 6,
   "id": "46a5e09bf000c325",
   "metadata": {
    "ExecuteTime": {
     "end_time": "2025-03-26T20:11:14.554298Z",
     "start_time": "2025-03-26T20:11:14.421291Z"
    }
   },
   "outputs": [
    {
     "data": {
      "image/png": "[encoded data removed]",
      "text/plain": [
       "<Figure size 640x480 with 1 Axes>"
      ]
     },
     "metadata": {},
     "output_type": "display_data"
    }
   ],
   "source": [
    "plt.scatter(X_test, y_test, label='Targets', c='darkgreen')\n",
    "preds = model(X_test)['gamma'].detach().numpy()\n",
    "plt.scatter(X_test, preds, label='Predicted', c='darkorange')\n",
    "plt.legend()\n",
    "plt.show()"
   ]
  }
 ],
 "metadata": {
  "kernelspec": {
   "display_name": "Python 3",
   "language": "python",
   "name": "python3"
  },
  "language_info": {
   "codemirror_mode": {
    "name": "ipython",
    "version": 2
   },
   "file_extension": ".py",
   "mimetype": "text/x-python",
   "name": "python",
   "nbconvert_exporter": "python",
   "pygments_lexer": "ipython2",
   "version": "2.7.6"
  }
 },
 "nbformat": 4,
 "nbformat_minor": 5
}
