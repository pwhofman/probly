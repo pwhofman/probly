{
 "cells": [
  {
   "cell_type": "markdown",
   "id": "4c2dab1c26a988e2",
   "metadata": {},
   "source": "### This notebook gives a very short example of how we can use a Representation dataclass."
  },
  {
   "cell_type": "code",
   "execution_count": 1,
   "id": "initial_id",
   "metadata": {
    "ExecuteTime": {
     "end_time": "2025-04-25T12:00:18.494456Z",
     "start_time": "2025-04-25T12:00:16.259155Z"
    },
    "collapsed": true
   },
   "outputs": [],
   "source": [
    "import torch\n",
    "\n",
    "from probly.representation.representation import CredalRepresentation, CredalStructure, Representation"
   ]
  },
  {
   "cell_type": "markdown",
   "id": "1b69246435fb2c12",
   "metadata": {},
   "source": "Generate some dummy probabilities coming from a credal model. We have 5 classes and want to generate 20 samples."
  },
  {
   "cell_type": "code",
   "execution_count": 2,
   "id": "3ad9bef59b5c4161",
   "metadata": {
    "ExecuteTime": {
     "end_time": "2025-04-25T12:00:18.610447Z",
     "start_time": "2025-04-25T12:00:18.602994Z"
    }
   },
   "outputs": [
    {
     "name": "stdout",
     "output_type": "stream",
     "text": [
      "torch.Size([1, 100, 5])\n"
     ]
    }
   ],
   "source": [
    "probs = torch.distributions.dirichlet.Dirichlet(torch.ones(5)).sample((1, 100))\n",
    "print(probs.shape)"
   ]
  },
  {
   "cell_type": "markdown",
   "id": "4da0e20a14d6b294",
   "metadata": {},
   "source": "Put the probabilities in a representation"
  },
  {
   "cell_type": "code",
   "execution_count": 3,
   "id": "5f74683bfc31ae49",
   "metadata": {
    "ExecuteTime": {
     "end_time": "2025-04-25T12:00:18.630535Z",
     "start_time": "2025-04-25T12:00:18.626927Z"
    }
   },
   "outputs": [
    {
     "name": "stdout",
     "output_type": "stream",
     "text": [
      "Uncertainty representation of a convex_hull credal set for a classification problem with 100 samples and 5 classes.\n"
     ]
    }
   ],
   "source": [
    "rep = CredalRepresentation(probs, problem=\"classification\", structure=\"convex_hull\")\n",
    "\n",
    "print(\n",
    "    f\"Uncertainty representation of a {rep.structure} credal set for a {rep.problem} problem \"\n",
    "    f\"with {rep.n_samples} samples and {rep.n_targets} classes.\",\n",
    ")"
   ]
  },
  {
   "cell_type": "markdown",
   "id": "3a5ed4057c9279f5",
   "metadata": {},
   "source": "Use the representation to quantify uncertainty"
  },
  {
   "cell_type": "code",
   "execution_count": 4,
   "id": "e4ab8e07b49bd71",
   "metadata": {
    "ExecuteTime": {
     "end_time": "2025-04-25T12:00:18.656489Z",
     "start_time": "2025-04-25T12:00:18.653172Z"
    }
   },
   "outputs": [
    {
     "name": "stdout",
     "output_type": "stream",
     "text": [
      "1\n"
     ]
    }
   ],
   "source": [
    "def quantify_uncertainty(representation: Representation) -> float:\n",
    "    \"\"\"Quantify uncertainty.\"\"\"\n",
    "    if representation.structure == CredalStructure.CONVEX_HULL:\n",
    "        # compute uncertainty in a certain way\n",
    "        uncertainty = 1\n",
    "    elif representation.structure == CredalStructure.INTERVAL:\n",
    "        # compute uncertainty in another way\n",
    "        uncertainty = 2\n",
    "    else:\n",
    "        # handle other structures\n",
    "        uncertainty = 3\n",
    "    return uncertainty\n",
    "\n",
    "\n",
    "print(quantify_uncertainty(rep))"
   ]
  }
 ],
 "metadata": {
  "kernelspec": {
   "display_name": "Python 3",
   "language": "python",
   "name": "python3"
  },
  "language_info": {
   "codemirror_mode": {
    "name": "ipython",
    "version": 2
   },
   "file_extension": ".py",
   "mimetype": "text/x-python",
   "name": "python",
   "nbconvert_exporter": "python",
   "pygments_lexer": "ipython2",
   "version": "2.7.6"
  }
 },
 "nbformat": 4,
 "nbformat_minor": 5
}
