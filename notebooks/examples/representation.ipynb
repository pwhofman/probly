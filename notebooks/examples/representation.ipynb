{
 "cells": [
  {
   "cell_type": "markdown",
   "id": "4c2dab1c26a988e2",
   "metadata": {},
   "source": "### This notebook gives a very short example of how we can use a Representation dataclass."
  },
  {
   "cell_type": "code",
   "id": "initial_id",
   "metadata": {
    "collapsed": true,
    "ExecuteTime": {
     "end_time": "2025-04-23T18:29:03.949882Z",
     "start_time": "2025-04-23T18:29:03.947293Z"
    }
   },
   "source": [
    "import torch\n",
    "\n",
    "from probly.representation.representation import CredalRepresentation, CredalStructure, Representation"
   ],
   "outputs": [],
   "execution_count": 45
  },
  {
   "cell_type": "markdown",
   "id": "1b69246435fb2c12",
   "metadata": {},
   "source": "Generate some dummy probabilities coming from a credal model. We have 5 classes and want to generate 20 samples."
  },
  {
   "cell_type": "code",
   "id": "3ad9bef59b5c4161",
   "metadata": {
    "ExecuteTime": {
     "end_time": "2025-04-23T18:29:03.970521Z",
     "start_time": "2025-04-23T18:29:03.967188Z"
    }
   },
   "source": [
    "probs = torch.distributions.dirichlet.Dirichlet(torch.ones(5)).sample((1, 100))\n",
    "print(probs.shape)"
   ],
   "outputs": [
    {
     "name": "stdout",
     "output_type": "stream",
     "text": [
      "torch.Size([1, 100, 5])\n"
     ]
    }
   ],
   "execution_count": 46
  },
  {
   "cell_type": "markdown",
   "id": "4da0e20a14d6b294",
   "metadata": {},
   "source": "Put the probabilities in a representation"
  },
  {
   "cell_type": "code",
   "id": "5f74683bfc31ae49",
   "metadata": {
    "ExecuteTime": {
     "end_time": "2025-04-23T18:29:03.996214Z",
     "start_time": "2025-04-23T18:29:03.993593Z"
    }
   },
   "source": [
    "rep = CredalRepresentation(probs, problem=\"classification\", structure=\"convex_hull\")\n",
    "\n",
    "print(\n",
    "    f\"Uncertainty representation of a {rep.structure} credal set for a {rep.problem} problem \"\n",
    "    f\"with {rep.n_samples} samples and {rep.n_classes} classes.\"\n",
    ")"
   ],
   "outputs": [
    {
     "name": "stdout",
     "output_type": "stream",
     "text": [
      "Uncertainty representation of a convex_hull credal set for a classification problem with 100 samples and 5 classes.\n"
     ]
    }
   ],
   "execution_count": 47
  },
  {
   "cell_type": "markdown",
   "id": "3a5ed4057c9279f5",
   "metadata": {},
   "source": "Use the representation to quantify uncertainty"
  },
  {
   "cell_type": "code",
   "id": "e4ab8e07b49bd71",
   "metadata": {
    "ExecuteTime": {
     "end_time": "2025-04-23T18:29:04.013758Z",
     "start_time": "2025-04-23T18:29:04.010904Z"
    }
   },
   "source": [
    "def quantify_uncertainty(representation: Representation) -> float:\n",
    "    \"\"\"Quantify uncertainty.\"\"\"\n",
    "    if representation.structure == CredalStructure.CONVEX_HULL:\n",
    "        # compute uncertainty in a certain way\n",
    "        uncertainty = 1\n",
    "    elif representation.structure == CredalStructure.INTERVAL:\n",
    "        # compute uncertainty in another way\n",
    "        uncertainty = 2\n",
    "    else:\n",
    "        # handle other structures\n",
    "        uncertainty = 3\n",
    "    return uncertainty\n",
    "\n",
    "\n",
    "print(quantify_uncertainty(rep))"
   ],
   "outputs": [
    {
     "name": "stdout",
     "output_type": "stream",
     "text": [
      "1\n"
     ]
    }
   ],
   "execution_count": 48
  }
 ],
 "metadata": {
  "kernelspec": {
   "display_name": "Python 3",
   "language": "python",
   "name": "python3"
  },
  "language_info": {
   "codemirror_mode": {
    "name": "ipython",
    "version": 2
   },
   "file_extension": ".py",
   "mimetype": "text/x-python",
   "name": "python",
   "nbconvert_exporter": "python",
   "pygments_lexer": "ipython2",
   "version": "2.7.6"
  }
 },
 "nbformat": 4,
 "nbformat_minor": 5
}
