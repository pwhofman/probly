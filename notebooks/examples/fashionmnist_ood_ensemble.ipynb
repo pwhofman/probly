{
 "cells": [
  {
   "cell_type": "markdown",
   "id": "f14bce88ab285874",
   "metadata": {},
   "source": "# Out-of-Distribution Detection with an Ensemble"
  },
  {
   "cell_type": "code",
   "execution_count": 1,
   "id": "initial_id",
   "metadata": {
    "ExecuteTime": {
     "end_time": "2025-10-20T15:54:31.127457Z",
     "start_time": "2025-10-20T15:54:28.923716Z"
    },
    "collapsed": true
   },
   "outputs": [],
   "source": [
    "import matplotlib.pyplot as plt\n",
    "import torch\n",
    "from torch import nn, optim\n",
    "from torch.utils.data import DataLoader\n",
    "import torchvision\n",
    "import torchvision.transforms as T\n",
    "from tqdm import tqdm\n",
    "\n",
    "from probly.evaluation.tasks import out_of_distribution_detection\n",
    "from probly.quantification.classification import mutual_information\n",
    "from probly.transformation import ensemble"
   ]
  },
  {
   "cell_type": "markdown",
   "id": "ad45423e645d25d2",
   "metadata": {},
   "source": "### Load data and create neural network"
  },
  {
   "cell_type": "code",
   "execution_count": 2,
   "id": "36f140ff85be3464",
   "metadata": {
    "ExecuteTime": {
     "end_time": "2025-10-20T15:54:31.184221Z",
     "start_time": "2025-10-20T15:54:31.143560Z"
    }
   },
   "outputs": [],
   "source": [
    "transforms = T.Compose([T.ToTensor(), torch.flatten])\n",
    "\n",
    "train = torchvision.datasets.FashionMNIST(root=\"~/datasets/\", train=True, download=True, transform=transforms)\n",
    "test = torchvision.datasets.FashionMNIST(root=\"~/datasets/\", train=False, download=True, transform=transforms)\n",
    "train_loader = DataLoader(train, batch_size=256, shuffle=True)\n",
    "test_loader = DataLoader(test, batch_size=256, shuffle=False)\n",
    "\n",
    "ood = torchvision.datasets.MNIST(root=\"~/datasets/\", train=False, download=True, transform=transforms)\n",
    "ood_loader = DataLoader(ood, batch_size=256, shuffle=False)\n",
    "\n",
    "\n",
    "class Net(nn.Module):\n",
    "    \"\"\"Simple Neural Network class.\n",
    "\n",
    "    Attributes:\n",
    "        fc1: nn.Module, first fully connected layer\n",
    "        fc2: nn.Module, second fully connected layer\n",
    "        fc3: nn.Module, third fully connected layer\n",
    "        act: nn.Module, activation function\n",
    "    \"\"\"\n",
    "\n",
    "    def __init__(self) -> None:\n",
    "        \"\"\"Initializes an instance of the Net class.\"\"\"\n",
    "        super().__init__()\n",
    "        self.fc1 = nn.Linear(784, 100)\n",
    "        self.fc2 = nn.Linear(100, 100)\n",
    "        self.fc3 = nn.Linear(100, 10)\n",
    "        self.act = nn.ReLU()\n",
    "\n",
    "    def forward(self, x: torch.Tensor) -> torch.Tensor:\n",
    "        \"\"\"Forward pass of the neural network.\n",
    "\n",
    "        Args:\n",
    "            x: torch.Tensor, input data\n",
    "        Returns:\n",
    "            torch.Tensor, output data\n",
    "        \"\"\"\n",
    "        x = self.act(self.fc1(x))\n",
    "        x = self.act(self.fc2(x))\n",
    "        x = self.fc3(x)\n",
    "        return x"
   ]
  },
  {
   "cell_type": "markdown",
   "id": "2bdf6ad4b8416b15",
   "metadata": {},
   "source": "### Make neural network a dropout model"
  },
  {
   "cell_type": "code",
   "execution_count": 3,
   "id": "e846c75162008235",
   "metadata": {
    "ExecuteTime": {
     "end_time": "2025-10-20T15:54:31.209257Z",
     "start_time": "2025-10-20T15:54:31.200093Z"
    }
   },
   "outputs": [],
   "source": [
    "ensemble = ensemble(Net(), 5)"
   ]
  },
  {
   "cell_type": "markdown",
   "id": "13393ea634149065",
   "metadata": {},
   "source": "### Train each ensemble member as usual"
  },
  {
   "cell_type": "code",
   "execution_count": 4,
   "id": "4159c8c1b155349c",
   "metadata": {
    "ExecuteTime": {
     "end_time": "2025-10-20T15:55:50.016392Z",
     "start_time": "2025-10-20T15:54:31.224517Z"
    }
   },
   "outputs": [
    {
     "name": "stderr",
     "output_type": "stream",
     "text": [
      "100%|██████████| 5/5 [01:18<00:00, 15.70s/it]\n"
     ]
    },
    {
     "name": "stdout",
     "output_type": "stream",
     "text": [
      "Accuracy: 0.8794\n"
     ]
    }
   ],
   "source": [
    "criterion = nn.CrossEntropyLoss()\n",
    "for model in tqdm(ensemble):\n",
    "    optimizer = optim.Adam(model.parameters())\n",
    "    for _ in range(10):\n",
    "        model.train()\n",
    "        for inputs, targets in train_loader:\n",
    "            optimizer.zero_grad()\n",
    "            outputs = model(inputs)\n",
    "            loss = criterion(outputs, targets)\n",
    "            loss.backward()\n",
    "            optimizer.step()\n",
    "\n",
    "# compute accuracy on test set\n",
    "correct = 0\n",
    "total = 0\n",
    "ensemble.eval()\n",
    "for inputs, targets in test_loader:\n",
    "    outputs = []\n",
    "    for model in ensemble:\n",
    "        outputs.append(torch.softmax(model(inputs), dim=1))\n",
    "    outputs = torch.stack(outputs, dim=1).mean(dim=1)\n",
    "    correct += (outputs.argmax(1) == targets).sum().item()\n",
    "    total += targets.size(0)\n",
    "print(f\"Accuracy: {correct / total}\")"
   ]
  },
  {
   "cell_type": "markdown",
   "id": "9f498d9c316bedc5",
   "metadata": {},
   "source": "### Compute epistemic uncertainty for in-distribution (FashionMNIST) and out-of-distribution (MNIST) data"
  },
  {
   "cell_type": "code",
   "execution_count": 5,
   "id": "2cb4100584576a06",
   "metadata": {
    "ExecuteTime": {
     "end_time": "2025-10-20T15:55:50.703812Z",
     "start_time": "2025-10-20T15:55:50.091304Z"
    }
   },
   "outputs": [],
   "source": [
    "@torch.no_grad()\n",
    "def torch_get_outputs(model: nn.Module, loader: DataLoader) -> torch.Tensor:\n",
    "    \"\"\"Generate outputs of the model given data from a loader.\n",
    "\n",
    "    Args:\n",
    "        model: nn.Module, model\n",
    "        loader: DataLoader, data loader\n",
    "    \"\"\"\n",
    "    outputs = []\n",
    "    for data, _ in loader:\n",
    "        output = []\n",
    "        for m in model:\n",
    "            output.append(torch.softmax(m(data), dim=1))\n",
    "        output = torch.stack(output, dim=1)\n",
    "        outputs.append(output)\n",
    "    outputs = torch.cat(outputs, dim=0)\n",
    "    return outputs\n",
    "\n",
    "\n",
    "# get all outputs\n",
    "outputs_id = torch_get_outputs(ensemble, test_loader)\n",
    "outputs_ood = torch_get_outputs(ensemble, ood_loader)\n",
    "outputs_id = outputs_id.numpy()\n",
    "outputs_ood = outputs_ood.numpy()\n",
    "\n",
    "# compute uncertainties\n",
    "uncertainty_id = mutual_information(outputs_id)\n",
    "uncertainty_ood = mutual_information(outputs_ood)"
   ]
  },
  {
   "cell_type": "markdown",
   "id": "8ca2d34292477c67",
   "metadata": {},
   "source": "### Do Out-of-Distribution task"
  },
  {
   "cell_type": "code",
   "execution_count": 6,
   "id": "7dcf980787a9f204",
   "metadata": {
    "ExecuteTime": {
     "end_time": "2025-10-20T15:55:50.824039Z",
     "start_time": "2025-10-20T15:55:50.707420Z"
    }
   },
   "outputs": [
    {
     "data": {
      "image/png": "[encoded data removed]",
      "text/plain": [
       "<Figure size 640x480 with 1 Axes>"
      ]
     },
     "jetTransient": {
      "display_id": null
     },
     "metadata": {},
     "output_type": "display_data"
    },
    {
     "name": "stdout",
     "output_type": "stream",
     "text": [
      "AUROC with FashionMNIST as iD and MNIST as OoD: 0.872\n"
     ]
    }
   ],
   "source": [
    "# plot the uncertainties in a histogram\n",
    "plt.hist(uncertainty_id, bins=50, alpha=0.5, label=\"In-Distribution\")\n",
    "plt.hist(uncertainty_ood, bins=50, alpha=0.5, label=\"Out-of-Distribution\")\n",
    "plt.legend()\n",
    "plt.show()\n",
    "\n",
    "auroc = out_of_distribution_detection(uncertainty_id, uncertainty_ood)\n",
    "print(f\"AUROC with FashionMNIST as iD and MNIST as OoD: {auroc:.3f}\")"
   ]
  }
 ],
 "metadata": {
  "kernelspec": {
   "display_name": "Python 3",
   "language": "python",
   "name": "python3"
  },
  "language_info": {
   "codemirror_mode": {
    "name": "ipython",
    "version": 2
   },
   "file_extension": ".py",
   "mimetype": "text/x-python",
   "name": "python",
   "nbconvert_exporter": "python",
   "pygments_lexer": "ipython2",
   "version": "2.7.6"
  }
 },
 "nbformat": 4,
 "nbformat_minor": 5
}
