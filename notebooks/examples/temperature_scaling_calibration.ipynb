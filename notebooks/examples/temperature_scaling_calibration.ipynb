{
 "cells": [
  {
   "metadata": {},
   "cell_type": "markdown",
   "source": "# Calibration using Temperature Scaling",
   "id": "13e1604fca108bc8"
  },
  {
   "cell_type": "code",
   "id": "initial_id",
   "metadata": {
    "collapsed": true,
    "ExecuteTime": {
     "end_time": "2025-04-10T09:07:22.449280Z",
     "start_time": "2025-04-10T09:07:22.444831Z"
    }
   },
   "source": [
    "import torch\n",
    "from torch import nn, optim\n",
    "import torch.nn.functional as F\n",
    "from torch.utils.data import DataLoader\n",
    "import torchvision\n",
    "import torchvision.transforms as T\n",
    "from tqdm import tqdm\n",
    "\n",
    "from probly.calibration import Temperature\n",
    "from probly.evaluation.metrics import expected_calibration_error\n",
    "\n",
    "device = torch.device(\"cuda:0\" if torch.cuda.is_available() else \"mps\" if torch.backends.mps.is_available() else \"cpu\")\n",
    "print(f\"Using device: {device}\")"
   ],
   "outputs": [
    {
     "name": "stdout",
     "output_type": "stream",
     "text": [
      "Using device: mps\n"
     ]
    }
   ],
   "execution_count": 40
  },
  {
   "cell_type": "markdown",
   "id": "28e99e3ce8be9f12",
   "metadata": {},
   "source": "## Load data"
  },
  {
   "cell_type": "code",
   "id": "e56d5e385073eda4",
   "metadata": {
    "ExecuteTime": {
     "end_time": "2025-04-10T09:07:24.056197Z",
     "start_time": "2025-04-10T09:07:22.464485Z"
    }
   },
   "source": [
    "transforms = T.Compose([T.ToTensor()])\n",
    "train = torchvision.datasets.CIFAR10(root=\"~/datasets\", train=True, download=True, transform=transforms)\n",
    "train, cal = torch.utils.data.random_split(train, [0.8, 0.2])\n",
    "test = torchvision.datasets.CIFAR10(root=\"~/datasets\", train=False, download=True, transform=transforms)\n",
    "train_loader = DataLoader(train, batch_size=256, shuffle=True)\n",
    "cal_loader = DataLoader(cal, batch_size=256, shuffle=True)\n",
    "test_loader = DataLoader(test, batch_size=256, shuffle=False)"
   ],
   "outputs": [],
   "execution_count": 41
  },
  {
   "cell_type": "markdown",
   "id": "c3ed0fd8d2c9a6a9",
   "metadata": {},
   "source": "## Load neural network"
  },
  {
   "cell_type": "code",
   "id": "d858f6ab74bf1864",
   "metadata": {
    "ExecuteTime": {
     "end_time": "2025-04-10T09:07:24.343705Z",
     "start_time": "2025-04-10T09:07:24.102924Z"
    }
   },
   "source": [
    "net = torchvision.models.resnet18(pretrained=True)\n",
    "net.fc = nn.Linear(512, 10, device=device)\n",
    "net = net.to(device)"
   ],
   "outputs": [],
   "execution_count": 42
  },
  {
   "cell_type": "markdown",
   "id": "b450222968f82bf8",
   "metadata": {},
   "source": "## Train neural network"
  },
  {
   "cell_type": "code",
   "id": "33c27cbb0abed0d3",
   "metadata": {
    "ExecuteTime": {
     "end_time": "2025-04-10T09:08:41.064395Z",
     "start_time": "2025-04-10T09:07:24.373694Z"
    }
   },
   "source": [
    "epochs = 5\n",
    "optimizer = optim.Adam(net.parameters())\n",
    "criterion = nn.CrossEntropyLoss()\n",
    "for epoch in tqdm(range(epochs)):\n",
    "    net.train()\n",
    "    running_loss = 0.0\n",
    "    for inputs, targets in train_loader:\n",
    "        optimizer.zero_grad()\n",
    "        outputs = net(inputs.to(device))\n",
    "        loss = criterion(outputs, targets.to(device))\n",
    "        loss.backward()\n",
    "        optimizer.step()\n",
    "        running_loss += loss.item()\n",
    "    print(f\"Epoch {epoch + 1}, Running loss: {running_loss / len(train_loader)}\")\n",
    "\n",
    "# compute accuracy and expected calibration error on test set\n",
    "net.eval()\n",
    "with torch.no_grad():\n",
    "    outputs = torch.empty(0, device=device)\n",
    "    targets = torch.empty(0, device=device)\n",
    "    for inpt, target in tqdm(test_loader):\n",
    "        outputs = torch.cat((outputs, net(inpt.to(device))), dim=0)\n",
    "        targets = torch.cat((targets, target.to(device)), dim=0)\n",
    "outputs = F.softmax(outputs, dim=1)\n",
    "correct = torch.sum(torch.argmax(outputs, dim=1) == targets).item()\n",
    "total = targets.size(0)\n",
    "ece = expected_calibration_error(outputs.cpu().numpy(), targets.cpu().numpy(), num_bins=10)\n",
    "print(f\"Accuracy: {correct / total}\")\n",
    "print(f\"Expected Calibration Error: {ece}\")"
   ],
   "outputs": [
    {
     "name": "stderr",
     "output_type": "stream",
     "text": [
      " 20%|██        | 1/5 [00:15<01:00, 15.04s/it]"
     ]
    },
    {
     "name": "stdout",
     "output_type": "stream",
     "text": [
      "Epoch 1, Running loss: 0.9242285938019965\n"
     ]
    },
    {
     "name": "stderr",
     "output_type": "stream",
     "text": [
      " 40%|████      | 2/5 [00:30<00:45, 15.03s/it]"
     ]
    },
    {
     "name": "stdout",
     "output_type": "stream",
     "text": [
      "Epoch 2, Running loss: 0.562462279561219\n"
     ]
    },
    {
     "name": "stderr",
     "output_type": "stream",
     "text": [
      " 60%|██████    | 3/5 [00:45<00:30, 15.05s/it]"
     ]
    },
    {
     "name": "stdout",
     "output_type": "stream",
     "text": [
      "Epoch 3, Running loss: 0.4154979696699009\n"
     ]
    },
    {
     "name": "stderr",
     "output_type": "stream",
     "text": [
      " 80%|████████  | 4/5 [01:00<00:15, 15.03s/it]"
     ]
    },
    {
     "name": "stdout",
     "output_type": "stream",
     "text": [
      "Epoch 4, Running loss: 0.3231563491236632\n"
     ]
    },
    {
     "name": "stderr",
     "output_type": "stream",
     "text": [
      "100%|██████████| 5/5 [01:15<00:00, 15.03s/it]\n"
     ]
    },
    {
     "name": "stdout",
     "output_type": "stream",
     "text": [
      "Epoch 5, Running loss: 0.25008974437880666\n"
     ]
    },
    {
     "name": "stderr",
     "output_type": "stream",
     "text": [
      "100%|██████████| 40/40 [00:01<00:00, 26.32it/s]"
     ]
    },
    {
     "name": "stdout",
     "output_type": "stream",
     "text": [
      "Accuracy: 0.7667\n",
      "Expected Calibration Error: 0.11227427605837584\n"
     ]
    },
    {
     "name": "stderr",
     "output_type": "stream",
     "text": [
      "\n"
     ]
    }
   ],
   "execution_count": 43
  },
  {
   "cell_type": "markdown",
   "id": "65ee4c7360189388",
   "metadata": {},
   "source": "## Use the temperature scaling class and fit temperature using the calibration set"
  },
  {
   "cell_type": "code",
   "id": "2d6bc99b2e85139",
   "metadata": {
    "ExecuteTime": {
     "end_time": "2025-04-10T09:08:52.669231Z",
     "start_time": "2025-04-10T09:08:41.142671Z"
    }
   },
   "source": [
    "model = Temperature(net).to(device)\n",
    "model.train()\n",
    "model.fit(cal_loader, learning_rate=0.01, max_iter=100)"
   ],
   "outputs": [
    {
     "name": "stderr",
     "output_type": "stream",
     "text": [
      "100%|██████████| 40/40 [00:01<00:00, 24.88it/s]\n"
     ]
    }
   ],
   "execution_count": 44
  },
  {
   "cell_type": "code",
   "id": "181da5980951c3",
   "metadata": {
    "ExecuteTime": {
     "end_time": "2025-04-10T09:08:54.261056Z",
     "start_time": "2025-04-10T09:08:52.676664Z"
    }
   },
   "source": [
    "# compute accuracy and expected calibration error on test set after temperature scaling\n",
    "model.eval()\n",
    "with torch.no_grad():\n",
    "    outputs = torch.empty(0, device=device)\n",
    "    targets = torch.empty(0, device=device)\n",
    "    for inpt, target in tqdm(test_loader):\n",
    "        outputs = torch.cat((outputs, model.predict_pointwise(inpt.to(device))), dim=0)\n",
    "        targets = torch.cat((targets, target.to(device)), dim=0)\n",
    "correct = torch.sum(torch.argmax(outputs, dim=1) == targets).item()\n",
    "total = targets.size(0)\n",
    "ece = expected_calibration_error(outputs.cpu().numpy(), targets.cpu().numpy(), num_bins=10)\n",
    "print(f\"Softmax temperature: {model.temperature.item()}\")\n",
    "print(f\"Accuracy: {correct / total}\")\n",
    "print(f\"Expected Calibration Error: {ece}\")"
   ],
   "outputs": [
    {
     "name": "stderr",
     "output_type": "stream",
     "text": [
      "100%|██████████| 40/40 [00:01<00:00, 25.39it/s]"
     ]
    },
    {
     "name": "stdout",
     "output_type": "stream",
     "text": [
      "Softmax temperature: 1.1454050540924072\n",
      "Accuracy: 0.8066\n",
      "Expected Calibration Error: 0.06147321143448353\n"
     ]
    },
    {
     "name": "stderr",
     "output_type": "stream",
     "text": [
      "\n"
     ]
    }
   ],
   "execution_count": 45
  }
 ],
 "metadata": {
  "kernelspec": {
   "display_name": "Python 3",
   "language": "python",
   "name": "python3"
  },
  "language_info": {
   "codemirror_mode": {
    "name": "ipython",
    "version": 2
   },
   "file_extension": ".py",
   "mimetype": "text/x-python",
   "name": "python",
   "nbconvert_exporter": "python",
   "pygments_lexer": "ipython2",
   "version": "2.7.6"
  }
 },
 "nbformat": 4,
 "nbformat_minor": 5
}
