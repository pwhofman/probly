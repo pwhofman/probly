{
 "cells": [
  {
   "cell_type": "markdown",
   "id": "6dc809e5",
   "metadata": {},
   "source": [
    "# A Brief Introduction to PyTraverse\n",
    "\n",
    "The goal of this notebook is to showcase the key aspects of PyTraverse and how they can be used to rewrite datastructures."
   ]
  },
  {
   "cell_type": "markdown",
   "id": "e6b142e6",
   "metadata": {},
   "source": [
    "## 1. Hello World Traverser\n",
    "\n",
    "Let's start with the simplest possible traverser: On that does not actually traverse anything:"
   ]
  },
  {
   "cell_type": "code",
   "execution_count": 1,
   "id": "c05c324a",
   "metadata": {},
   "outputs": [
    {
     "name": "stdout",
     "output_type": "stream",
     "text": [
      "HELLO WORLD\n"
     ]
    }
   ],
   "source": [
    "import pytraverse as t\n",
    "\n",
    "\n",
    "@t.traverser\n",
    "def my_traverser(s: str) -> str:\n",
    "    return s.upper()\n",
    "\n",
    "\n",
    "s = \"hello world\"\n",
    "print(t.traverse(s, my_traverser))"
   ]
  },
  {
   "cell_type": "markdown",
   "id": "bf7fe472",
   "metadata": {},
   "source": [
    "The core function offered by the `pytraverse` module is the `traverse` function. It takes an object to traverse and a traverser that should be applied to it.\n",
    "Here, the traverser just calls the `.upper()` method of the passed-in string.\n",
    "\n",
    "Note the `@t.traverser` decorator. It converts our simple object mapper to a \"proper\" traverser - we will discuss later what this means.\n",
    "For now, just remember to annotate your traverser functions with this decorator."
   ]
  },
  {
   "cell_type": "markdown",
   "id": "ca910ddc",
   "metadata": {},
   "source": [
    "## 2. Down to Business\n",
    "\n",
    "The previous example was maybe a bit boring. After all, we did not traverse anything. Let's change that now...\n",
    "\n",
    "Consider the problem of computing the sum of all the integers in a (nested) datastructure:"
   ]
  },
  {
   "cell_type": "code",
   "execution_count": 2,
   "id": "fc09165b",
   "metadata": {},
   "outputs": [],
   "source": [
    "data = [[1, 2, [3, [4, 5], 6], 7, 8], 9]\n",
    "# We want to compute 1 + 2 + 3 + 4 + 5 + 6 + 7 + 8 + 9 = 45 here..."
   ]
  },
  {
   "cell_type": "markdown",
   "id": "0cd9309c",
   "metadata": {},
   "source": [
    "The main idea behind the traverser library is to abstract away the recursion, so that you can focus on the semantics of the task at hand.\n",
    "\n",
    "Let's start by solving this task using a standard recursive implementation:"
   ]
  },
  {
   "cell_type": "code",
   "execution_count": 3,
   "metadata": {},
   "outputs": [
    {
     "name": "stdout",
     "output_type": "stream",
     "text": [
      "45\n"
     ]
    }
   ],
   "source": [
    "def recursive_sum(x: object) -> int:\n",
    "    if isinstance(x, list):\n",
    "        s = sum([recursive_sum(item) for item in x])\n",
    "        return s\n",
    "    return x\n",
    "\n",
    "\n",
    "print(recursive_sum(data))"
   ]
  },
  {
   "cell_type": "markdown",
   "id": "30831a90",
   "metadata": {},
   "source": [
    "That was easy enough. Now, let's rewrite this to use the pytraverse library:"
   ]
  },
  {
   "cell_type": "code",
   "execution_count": 4,
   "id": "75a627e2",
   "metadata": {},
   "outputs": [
    {
     "name": "stdout",
     "output_type": "stream",
     "text": [
      "45\n"
     ]
    }
   ],
   "source": [
    "from collections.abc import Callable\n",
    "\n",
    "\n",
    "@t.traverser\n",
    "def sum_traverser(x: object, traverse: Callable[[object], int]) -> int:\n",
    "    if isinstance(x, list):\n",
    "        s = sum([traverse(item) for item in x])\n",
    "        return s\n",
    "    return x\n",
    "\n",
    "\n",
    "print(t.traverse(data, sum_traverser))"
   ]
  },
  {
   "cell_type": "markdown",
   "id": "c195bdcf",
   "metadata": {},
   "source": [
    "*Not so different...*\n",
    "indeed, the code is mostly identical to the previous one.\n",
    "The main difference is, that the function no longer explicitly calls itself.\n",
    "Instead it receives a `traverse` function now, which facilitates the recursive calls.\n",
    "\n",
    "For now, this second implementation is not any simpler than the one above.\n",
    "The main advantage of this decoupling of the recursive caller and the callee only becomes apparent once we introduce the main superpower of the traverser module: **Composition**."
   ]
  },
  {
   "cell_type": "markdown",
   "id": "f01593f0",
   "metadata": {},
   "source": [
    "## 3. Let's compose...\n",
    "\n",
    "In the spirit of separation of concerns, it might not always be desirable (or possible) to write a single large recursive function which processes your data to your heart's content.\n",
    "\n",
    "Instead, one might want to decouple the general logic of traversing (what are the children of a datastructure) from the actual processing of the nodes.\n",
    "\n",
    "For example, let's assume we want to multiply all numbers in a nested list datastructure by 2.\n",
    "Alternatively, we might want to add 1 to each element, or do something else...\n",
    "Using naive recusive Python, this might look something like this:"
   ]
  },
  {
   "cell_type": "code",
   "execution_count": 5,
   "id": "9f37280a",
   "metadata": {},
   "outputs": [
    {
     "name": "stdout",
     "output_type": "stream",
     "text": [
      "Data: [[1, 2, [3, [4, 5], 6], 7, 8], 9]\n",
      "Mul: [[2, 4, [6, [8, 10], 12], 14, 16], 18]\n",
      "Add: [[2, 3, [4, [5, 6], 7], 8, 9], 10]\n",
      "Pow: [[2, 4, [8, [16, 32], 64], 128, 256], 512]\n"
     ]
    }
   ],
   "source": [
    "def mashed_multiply(x: object) -> object:\n",
    "    if isinstance(x, list):\n",
    "        return [mashed_multiply(item) for item in x]\n",
    "    return x * 2\n",
    "\n",
    "\n",
    "def mashed_add(x: object) -> object:\n",
    "    if isinstance(x, list):\n",
    "        return [mashed_add(item) for item in x]\n",
    "    return x + 1\n",
    "\n",
    "\n",
    "def mashed_exp(x: object) -> object:\n",
    "    if isinstance(x, list):\n",
    "        return [mashed_exp(item) for item in x]\n",
    "    return 2**x\n",
    "\n",
    "\n",
    "print(\"Data:\", data)\n",
    "print(\"Mul:\", mashed_multiply(data))\n",
    "print(\"Add:\", mashed_add(data))\n",
    "print(\"Pow:\", mashed_exp(data))"
   ]
  },
  {
   "cell_type": "markdown",
   "id": "6b10b042",
   "metadata": {},
   "source": [
    "Note the redundant code in `mashed_multiply`, `mashed_add` and `mashed_exp`.\n",
    "For complicated traversal logic, monolithic recursive processors leads to duplicated, non-extensible and brittle code.\n",
    "Let's fix this using traversers..."
   ]
  },
  {
   "cell_type": "code",
   "execution_count": 6,
   "id": "5ae1e551",
   "metadata": {},
   "outputs": [
    {
     "name": "stdout",
     "output_type": "stream",
     "text": [
      "Data: [[1, 2, [3, [4, 5], 6], 7, 8], 9]\n",
      "Mul: [[2, 4, [6, [8, 10], 12], 14, 16], 18]\n",
      "Add: [[2, 3, [4, [5, 6], 7], 8, 9], 10]\n",
      "Pow: [[2, 4, [8, [16, 32], 64], 128, 256], 512]\n"
     ]
    }
   ],
   "source": [
    "@t.singledispatch_traverser\n",
    "def data_traverser(x: list, traverse: Callable[[object], object]) -> list:\n",
    "    return [traverse(item) for item in x]\n",
    "\n",
    "\n",
    "@t.singledispatch_traverser\n",
    "def mul_traverser(x: int) -> int:\n",
    "    return x * 2\n",
    "\n",
    "\n",
    "@t.singledispatch_traverser\n",
    "def add_traverser(x: int) -> int:\n",
    "    return x + 1\n",
    "\n",
    "\n",
    "@t.singledispatch_traverser\n",
    "def pow_traverser(x: int) -> int:\n",
    "    return 2**x\n",
    "\n",
    "\n",
    "print(\"Data:\", data)\n",
    "print(\"Mul:\", t.traverse(data, t.sequential(data_traverser, mul_traverser)))\n",
    "print(\"Add:\", t.traverse(data, t.sequential(data_traverser, add_traverser)))\n",
    "print(\"Pow:\", t.traverse(data, t.sequential(data_traverser, pow_traverser)))"
   ]
  },
  {
   "cell_type": "markdown",
   "id": "529fd726",
   "metadata": {},
   "source": [
    "Here, two new functions are used:\n",
    "1. `@t.singledispatch_traverser` is used instead of `@t.traverser`.\n",
    "2. `t.sequential` is used to combine traversers.\n",
    "\n",
    "First, let's consider the changed decorator.\n",
    "For now, let's ignore the details of what this decorator does.\n",
    "Similar to `@t.traverser`, `@t.singledispatch_traverser` ensures that the given traverser is a \"proper\" traverser (whatever that means)...\n",
    "The reason we use it, instead of the regular `traverser` decorator is, that the traversal logic in each function is now type-dependent.\n",
    "\n",
    "Note that the implementation in `data_traverser` only works for lists, while the code in the other traversers only works for numbers.\n",
    "`@t.singledispatch_traverser` ensures that the traversal logic is only called for compatible types, i.e., it effectively does the `isinstance(x, list)` checks for us.\n",
    "To do this type matching, the decorator looks at the type annotation of the first argument of the traverser.\n",
    "\n",
    "Remember: **Type annotations are mandatory when using `@t.singledispatch_traverser`!**\n",
    "\n",
    "Second, consider the `t.sequential` calls.\n",
    "This function combines the given traverers into a single traverser which applies each of the given traversers in order (left to right)."
   ]
  },
  {
   "cell_type": "code",
   "execution_count": 7,
   "id": "71195d4b",
   "metadata": {},
   "outputs": [],
   "source": [
    "# This:\n",
    "t.sequential(data_traverser, mul_traverser)\n",
    "\n",
    "\n",
    "# is equivalent to this:\n",
    "@t.traverser\n",
    "def sequential_traverser(x: object, traverse: Callable[[object], object]) -> object:\n",
    "    # data_traverser:\n",
    "    if isinstance(x, list):\n",
    "        return [traverse(item) for item in x]\n",
    "    # mul_traverser:\n",
    "    if isinstance(x, int):\n",
    "        return x * 2\n",
    "    # singledispatch_traverser acts like the identity function\n",
    "    # for other types:\n",
    "    return x"
   ]
  },
  {
   "cell_type": "markdown",
   "id": "c0c2e2ea",
   "metadata": {},
   "source": [
    "## 4. ...multiple dispatchers\n",
    "\n",
    "Singledispatch and sequential composition are already fairly powerful, but there is more to the story.\n",
    "\n",
    "A fundamental problem of programming is the so-called [expession problem](https://en.wikipedia.org/wiki/Expression_problem).\n",
    "\n",
    "In the case of data traversal, this problem comes up whenever the type hierarchy of the datatypes we want to work with is not fully known in advance or if it might even change later on.\n",
    "For example, assume we decide that our composed traversers should not only be able to multiply/add/exponentiate integers in nested lists, but also in mixtures of nested lists and dictionaries:"
   ]
  },
  {
   "cell_type": "code",
   "execution_count": 8,
   "id": "5a2e245f",
   "metadata": {},
   "outputs": [
    {
     "name": "stdout",
     "output_type": "stream",
     "text": [
      "Mixed Data: {'a': 1, 'b': [2, 3], 'c': {'d': 4, 'e': 5}}\n",
      "Mul: {'a': 1, 'b': [2, 3], 'c': {'d': 4, 'e': 5}}\n",
      "Add: {'a': 1, 'b': [2, 3], 'c': {'d': 4, 'e': 5}}\n",
      "Pow: {'a': 1, 'b': [2, 3], 'c': {'d': 4, 'e': 5}}\n"
     ]
    }
   ],
   "source": [
    "mixed_data = {\"a\": 1, \"b\": [2, 3], \"c\": {\"d\": 4, \"e\": 5}}\n",
    "\n",
    "print(\"Mixed Data:\", mixed_data)\n",
    "print(\"Mul:\", t.traverse(mixed_data, t.sequential(data_traverser, mul_traverser)))\n",
    "print(\"Add:\", t.traverse(mixed_data, t.sequential(data_traverser, add_traverser)))\n",
    "print(\"Pow:\", t.traverse(mixed_data, t.sequential(data_traverser, pow_traverser)))"
   ]
  },
  {
   "cell_type": "markdown",
   "id": "ad4cfeb3",
   "metadata": {},
   "source": [
    "Since `data_traverser` only knows how to deal with lists, we cannot process `mixed_data`.\n",
    "\n",
    "Naively, we could just rewrite the `data_traverser` to also deal with `dict` inputs.\n",
    "But what if we do not want to do this for *some reason*? 🤨\n",
    "\n",
    "> [**Why?**]\n",
    "> Before we continue, let's justify why we would not just rewrite `data_traverser`.\n",
    ">Assume, we decide that we want to extend the `data_traverser` to also work on the elements of tables contained in PDF files, i.e., what if we want to multiply all numbers contained in a table inside a PDF by 2.\n",
    "> A bit odd, but why not...\n",
    "> To support this very niche use-case, every user of `data_traverser` would not only have to load the basic `list` and `dict` traverser code but also a huge blob of PDF parsing code they might not even care about.\n",
    "> Wouldn't it be nice if the user could decide which data structures should be traversable by `data_traverser` and then only load the necessary code?\n",
    "\n",
    "Fortunately, our `singledispatch_traverser`-based `data_traverser` already supports the extensibility we need via a technique called *multiple dispatch*.\n",
    "This means that we can extend the behavior of our traverser like this:  "
   ]
  },
  {
   "cell_type": "code",
   "execution_count": 9,
   "id": "c4e2040f",
   "metadata": {},
   "outputs": [
    {
     "name": "stdout",
     "output_type": "stream",
     "text": [
      "Mixed Data: {'a': 1, 'b': [2, 3], 'c': {'d': 4, 'e': 5}}\n",
      "Mul: {'a': 2, 'b': [4, 6], 'c': {'d': 8, 'e': 10}}\n",
      "Add: {'a': 2, 'b': [3, 4], 'c': {'d': 5, 'e': 6}}\n",
      "Pow: {'a': 2, 'b': [4, 8], 'c': {'d': 16, 'e': 32}}\n"
     ]
    }
   ],
   "source": [
    "@data_traverser.register\n",
    "def _(x: dict, traverse: Callable[[object], object]) -> dict:\n",
    "    return {k: traverse(v) for k, v in x.items()}\n",
    "\n",
    "\n",
    "print(\"Mixed Data:\", mixed_data)\n",
    "print(\"Mul:\", t.traverse(mixed_data, t.sequential(data_traverser, mul_traverser)))\n",
    "print(\"Add:\", t.traverse(mixed_data, t.sequential(data_traverser, add_traverser)))\n",
    "print(\"Pow:\", t.traverse(mixed_data, t.sequential(data_traverser, pow_traverser)))"
   ]
  },
  {
   "cell_type": "markdown",
   "id": "5b4c1ee3",
   "metadata": {},
   "source": [
    "All we had to do was to `register` a new dispatch handler with the `data_traverser` (note the `x: dict` type hint which enables this!) and all existing users of that traverser benefit from the extended functionality.\n",
    "Cool!"
   ]
  },
  {
   "cell_type": "markdown",
   "id": "a8b94d02",
   "metadata": {},
   "source": [
    "## 5. Learning to Count\n",
    "\n",
    "At this point you could just compose and register dispatchers on traversers to your heart's content. But... there's more.\n",
    "\n",
    "So far we just played around in functional wonderland where all traverers independently did their little thing without much care for the rest of the world.\n",
    "Unfortunately, this is not sufficent.\n",
    "\n",
    "Let's start with a simple example:\n",
    "What if we want to apply the add/multiply/pow operations from the previous sections only to every second leaf node of a nested datastructure.\n",
    "To do this, our traverser would have to know, where it is in the traversal tree.\n",
    "*How do we do this?*\n",
    "\n",
    "**Variables!**\n",
    "\n",
    "The traverse module comes with three types of variables:\n",
    "1. `GlobalVariable`\n",
    "2. `StackVariable`\n",
    "3. `ComputedVariable`\n",
    "\n",
    "To solve the conditional transformation problem described above, we can employ a `GlobalVariable`.\n",
    "Since showing is better than telling, let's just see how this works:"
   ]
  },
  {
   "cell_type": "code",
   "execution_count": 10,
   "id": "4dca5cfb",
   "metadata": {},
   "outputs": [
    {
     "name": "stdout",
     "output_type": "stream",
     "text": [
      "Data: {'a': 1, 'b': [2, 3], 'c': {'d': 4, 'e': 5}}\n",
      "Traversed Data: {'a': 2, 'b': [4, 6], 'c': {'d': 8, 'e': 10}}\n",
      "Leaf Count: 5\n"
     ]
    }
   ],
   "source": [
    "LEAF_COUNT = t.GlobalVariable[int](\"LEAF_COUNT\", default=0)\n",
    "\n",
    "\n",
    "@data_traverser.register(object)\n",
    "def leaf_count_traverser(state: t.State) -> t.State:\n",
    "    state[LEAF_COUNT] += 1\n",
    "    return state\n",
    "\n",
    "\n",
    "traversed_data, state = t.traverse_with_state(\n",
    "    mixed_data,\n",
    "    t.sequential(data_traverser, mul_traverser),\n",
    ")\n",
    "\n",
    "print(\"Data:\", mixed_data)\n",
    "print(\"Traversed Data:\", traversed_data)\n",
    "print(\"Leaf Count:\", state[LEAF_COUNT])"
   ]
  },
  {
   "cell_type": "markdown",
   "id": "bf73a70c",
   "metadata": {},
   "source": [
    "First, we define the gloabl `int` variable `LEAF_COUNT`.\n",
    "Second, we register a new default dispatcher with the `data_traverser`.\n",
    "If no other dispatcher matches, i.e., if neigher the previously defined `list` and `dict` handlers traverse the current object, the new traverser is executed.\n",
    "\n",
    "This newly registered `leaf_count_traverser` is a bit different from the ones we saw before. Instead of an object, it takes a `t.State` as a parameter.\n",
    "During the traversal such state objects can be used to pass-along and update arbitrary data.\n",
    "\n",
    "The previously defined `LEAF_COUNT` variable can be accessed and changed via the `state[LEAF_COUNT]` syntax.\n",
    "Since `LEAF_COUNT` is a global variable, any changes to this variable will be visible to all parent and child elements in the traversed structure.\n",
    "\n",
    "Last, to access the final state after traveral, we call `t.travsere_with_state` instead of `t.traverse`.\n",
    "After traversing/processing all five leaf nodes of `mixed_data`, the final value of `LEAF_COUNT` is `5` - as we would expect.\n",
    "\n",
    "Now, let's use this counter to apply the `mul_traverser` only to every second node:"
   ]
  },
  {
   "cell_type": "code",
   "execution_count": 11,
   "id": "2d6ca8cd",
   "metadata": {},
   "outputs": [
    {
     "name": "stdout",
     "output_type": "stream",
     "text": [
      "Data: {'a': 1, 'b': [2, 3], 'c': {'d': 4, 'e': 5}}\n",
      "Traversed Data: {'a': 1, 'b': [4, 3], 'c': {'d': 8, 'e': 5}}\n"
     ]
    }
   ],
   "source": [
    "def is_even_leaf(state: t.State) -> bool:\n",
    "    return state[LEAF_COUNT] % 2 == 0\n",
    "\n",
    "\n",
    "conditional_mul_traverser = t.traverser(mul_traverser, traverse_if=is_even_leaf)\n",
    "\n",
    "traversed_data = t.traverse(\n",
    "    mixed_data,\n",
    "    t.sequential(data_traverser, conditional_mul_traverser),\n",
    ")\n",
    "\n",
    "print(\"Data:\", mixed_data)\n",
    "print(\"Traversed Data:\", traversed_data)"
   ]
  },
  {
   "cell_type": "markdown",
   "id": "6f6b0717",
   "metadata": {},
   "source": [
    "To realize the conditional traversal, we make use of another neat feature of the `traverser` decorator: `traverse_if`.\n",
    "This optional parameter can be used to disable the resulting traverser given some predicate.\n",
    "Complimentary to `traverse_if` there is also an analogous `skip_if` parameter."
   ]
  },
  {
   "cell_type": "markdown",
   "id": "782392ed",
   "metadata": {},
   "source": [
    "## 6. Too deep\n",
    "\n",
    "Even/odd counting is nice, but what about depth counting?\n",
    "Let's now only apply the multiply traverser to nodes that are not at the root level."
   ]
  },
  {
   "cell_type": "code",
   "execution_count": 12,
   "id": "65a34b0d",
   "metadata": {},
   "outputs": [
    {
     "name": "stdout",
     "output_type": "stream",
     "text": [
      "DEPTH_COUNT = 0 at object {'a': 1, 'b': [2, 3], 'c': {'d': 4, 'e': 5}}\n",
      "DEPTH_COUNT = 1 at object 1\n",
      "DEPTH_COUNT = 1 at object [2, 3]\n",
      "DEPTH_COUNT = 2 at object 2\n",
      "DEPTH_COUNT = 2 at object 3\n",
      "DEPTH_COUNT = 1 at object {'d': 4, 'e': 5}\n",
      "DEPTH_COUNT = 2 at object 4\n",
      "DEPTH_COUNT = 2 at object 5\n",
      "Data: {'a': 1, 'b': [2, 3], 'c': {'d': 4, 'e': 5}}\n",
      "Traversed Data: {'a': 1, 'b': [4, 6], 'c': {'d': 8, 'e': 10}}\n"
     ]
    }
   ],
   "source": [
    "DEPTH_COUNT = t.StackVariable[int](\"DEPTH_COUNT\", default=-1)\n",
    "\n",
    "\n",
    "@t.traverser\n",
    "def depth_counter_traverser(state: t.State) -> t.State:\n",
    "    state[DEPTH_COUNT] += 1\n",
    "    print(f\"DEPTH_COUNT = {state[DEPTH_COUNT]} at object {state.object}\")\n",
    "    return state\n",
    "\n",
    "\n",
    "depth_conditional_mul_traverser = t.traverser(\n",
    "    mul_traverser,\n",
    "    traverse_if=lambda state: state[DEPTH_COUNT] > 1,\n",
    ")\n",
    "\n",
    "traversed_data = t.traverse(\n",
    "    mixed_data,\n",
    "    t.sequential(\n",
    "        depth_counter_traverser,\n",
    "        data_traverser,\n",
    "        depth_conditional_mul_traverser,\n",
    "    ),\n",
    ")\n",
    "\n",
    "print(\"Data:\", mixed_data)\n",
    "print(\"Traversed Data:\", traversed_data)"
   ]
  },
  {
   "cell_type": "markdown",
   "id": "14ce5bd1",
   "metadata": {},
   "source": [
    "Overall, this is pretty similar to what we did before but now we used A `StackVariable` instead of a `GlobalVariable`.\n",
    "As the name suggests, updates to stack variables are only visible in downstream traverser calls, not upstream.\n",
    "\n",
    "### ... there be dragons\n",
    "\n",
    "Note that the above example depends on the order of the traversers in `t.sequential`.\n",
    "Let's try the following:"
   ]
  },
  {
   "cell_type": "code",
   "execution_count": 13,
   "id": "fac69727",
   "metadata": {},
   "outputs": [
    {
     "name": "stdout",
     "output_type": "stream",
     "text": [
      "DEPTH_COUNT = 0 at object 1\n",
      "DEPTH_COUNT = 0 at object 2\n",
      "DEPTH_COUNT = 0 at object 3\n",
      "DEPTH_COUNT = 0 at object [2, 3]\n",
      "DEPTH_COUNT = 0 at object 4\n",
      "DEPTH_COUNT = 0 at object 5\n",
      "DEPTH_COUNT = 0 at object {'d': 4, 'e': 5}\n",
      "DEPTH_COUNT = 0 at object {'a': 1, 'b': [2, 3], 'c': {'d': 4, 'e': 5}}\n",
      "Data: {'a': 1, 'b': [2, 3], 'c': {'d': 4, 'e': 5}}\n",
      "Traversed Data: {'a': 1, 'b': [2, 3], 'c': {'d': 4, 'e': 5}}\n"
     ]
    }
   ],
   "source": [
    "traversed_data = t.traverse(\n",
    "    mixed_data,\n",
    "    t.sequential(\n",
    "        data_traverser,\n",
    "        depth_counter_traverser,  # Depth count increased after data_traverser\n",
    "        depth_conditional_mul_traverser,\n",
    "    ),\n",
    ")\n",
    "\n",
    "print(\"Data:\", mixed_data)\n",
    "print(\"Traversed Data:\", traversed_data)"
   ]
  },
  {
   "cell_type": "markdown",
   "id": "e6c539e8",
   "metadata": {},
   "source": [
    "If the `depth_counter_traverser` is executed after the `data_traverser`, the recursive data traversal will reach the leaf nodes before the `DEPTH_COUNT` variable is increased.\n",
    "This highlights the importance of ordering composed traversers carefully. "
   ]
  }
 ],
 "metadata": {
  "kernelspec": {
   "display_name": "uncertainty-toolkit",
   "language": "python",
   "name": "python3"
  },
  "language_info": {
   "codemirror_mode": {
    "name": "ipython",
    "version": 3
   },
   "file_extension": ".py",
   "mimetype": "text/x-python",
   "name": "python",
   "nbconvert_exporter": "python",
   "pygments_lexer": "ipython3",
   "version": "3.13.2"
  }
 },
 "nbformat": 4,
 "nbformat_minor": 5
}
