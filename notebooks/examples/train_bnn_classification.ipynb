{
 "cells": [
  {
   "cell_type": "code",
   "id": "initial_id",
   "metadata": {
    "collapsed": true,
    "ExecuteTime": {
     "end_time": "2025-04-03T11:20:20.172064Z",
     "start_time": "2025-04-03T11:20:20.168612Z"
    }
   },
   "source": [
    "import torch\n",
    "import torchvision\n",
    "import torchvision.transforms as T\n",
    "from torch import nn, optim\n",
    "from torch.utils.data import DataLoader\n",
    "from tqdm import tqdm\n",
    "\n",
    "from probly.losses import ELBOLoss\n",
    "from probly.representation import Bayesian"
   ],
   "outputs": [],
   "execution_count": 9
  },
  {
   "cell_type": "markdown",
   "id": "7ab7e12a8c0ec264",
   "metadata": {},
   "source": "### Prepare the data"
  },
  {
   "cell_type": "code",
   "id": "d9b97c61949181bd",
   "metadata": {
    "ExecuteTime": {
     "end_time": "2025-04-03T11:20:20.226579Z",
     "start_time": "2025-04-03T11:20:20.187046Z"
    }
   },
   "source": [
    "transforms = T.Compose([T.ToTensor()])\n",
    "train = torchvision.datasets.FashionMNIST(root=\"~/datasets\", train=True, download=True, transform=transforms)\n",
    "test = torchvision.datasets.FashionMNIST(root=\"~/datasets\", train=False, download=True, transform=transforms)\n",
    "train_loader = DataLoader(train, batch_size=256, shuffle=True)\n",
    "test_loader = DataLoader(test, batch_size=256, shuffle=False)"
   ],
   "outputs": [],
   "execution_count": 10
  },
  {
   "cell_type": "markdown",
   "id": "5d35a2d1a1caabe6",
   "metadata": {},
   "source": "### Define a simple neural network and make it Bayesian"
  },
  {
   "cell_type": "code",
   "id": "9a7d8ddf4df41011",
   "metadata": {
    "ExecuteTime": {
     "end_time": "2025-04-03T11:20:20.235323Z",
     "start_time": "2025-04-03T11:20:20.230188Z"
    }
   },
   "source": [
    "class LeNet(nn.Module):\n",
    "    \"\"\"Implementation of a model with LeNet architecture.\n",
    "\n",
    "    Attributes:\n",
    "        conv1: nn.Module, first convolutional layer\n",
    "        conv2: nn.Module, second convolutional layer\n",
    "        fc1: nn.Module, first fully connected layer\n",
    "        fc2: nn.Module, second fully connected layer\n",
    "        act: nn.Module, activation function\n",
    "        max_pool: nn.Module, max pooling layer\n",
    "    \"\"\"\n",
    "\n",
    "    def __init__(self) -> None:\n",
    "        \"\"\"Initializes an instance of the LeNet class.\"\"\"\n",
    "        super().__init__()\n",
    "        self.conv1 = nn.Conv2d(1, 8, kernel_size=5)\n",
    "        self.conv2 = nn.Conv2d(8, 16, kernel_size=5)\n",
    "        self.fc1 = nn.Linear(256, 128)\n",
    "        self.fc2 = nn.Linear(128, 10)\n",
    "        self.act = nn.ReLU()\n",
    "        self.max_pool = nn.MaxPool2d(2)\n",
    "\n",
    "    def forward(self, x: torch.Tensor) -> torch.Tensor:\n",
    "        \"\"\"Forward pass of the LeNet.\n",
    "\n",
    "        Args:\n",
    "            x: torch.Tensor, input data\n",
    "        Returns:\n",
    "            torch.Tensor, output data\n",
    "        \"\"\"\n",
    "        x = self.act(self.max_pool(self.conv1(x)))\n",
    "        x = self.act(self.max_pool(self.conv2(x)))\n",
    "        x = torch.flatten(x, 1)\n",
    "        x = self.act(self.fc1(x))\n",
    "        x = self.fc2(x)\n",
    "        return x\n",
    "\n",
    "\n",
    "net = LeNet()\n",
    "model = Bayesian(net)"
   ],
   "outputs": [],
   "execution_count": 11
  },
  {
   "cell_type": "markdown",
   "id": "50f5d9b0076b146b",
   "metadata": {},
   "source": "### Train the Bayesian neural network using the ELBO loss"
  },
  {
   "cell_type": "code",
   "id": "c6767549162afd06",
   "metadata": {
    "ExecuteTime": {
     "end_time": "2025-04-03T11:22:59.505783Z",
     "start_time": "2025-04-03T11:20:20.249175Z"
    }
   },
   "source": [
    "epochs = 20\n",
    "optimizer = optim.Adam(model.parameters())\n",
    "criterion = ELBOLoss(1e-5)\n",
    "for epoch in tqdm(range(epochs)):\n",
    "    model.train()\n",
    "    running_loss = 0.0\n",
    "    for inputs, targets in train_loader:\n",
    "        optimizer.zero_grad()\n",
    "        outputs = model(inputs)\n",
    "        loss = criterion(outputs, targets, model.kl_divergence)\n",
    "        loss.backward()\n",
    "        optimizer.step()\n",
    "        running_loss += loss.item()\n",
    "    print(f\"Epoch {epoch + 1}, Running loss: {running_loss / len(train_loader)}, KL: {model.kl_divergence.item()}\")\n",
    "\n",
    "# compute accuracy on test set\n",
    "correct = 0\n",
    "total = 0\n",
    "model.eval()\n",
    "for inputs, targets in test_loader:\n",
    "    outputs = model.predict_pointwise(inputs, n_samples=100)\n",
    "    correct += (outputs.argmax(1) == targets).sum()\n",
    "    total += targets.size(0)\n",
    "print(f\"Accuracy: {correct / total}\")"
   ],
   "outputs": [
    {
     "name": "stderr",
     "output_type": "stream",
     "text": [
      "  5%|▌         | 1/20 [00:07<02:18,  7.27s/it]"
     ]
    },
    {
     "name": "stdout",
     "output_type": "stream",
     "text": [
      "Epoch 1, Running loss: 2.3727945616904726, KL: 92650.96875\n"
     ]
    },
    {
     "name": "stderr",
     "output_type": "stream",
     "text": [
      " 10%|█         | 2/20 [00:14<02:08,  7.12s/it]"
     ]
    },
    {
     "name": "stdout",
     "output_type": "stream",
     "text": [
      "Epoch 2, Running loss: 1.7158776526755475, KL: 91939.3046875\n"
     ]
    },
    {
     "name": "stderr",
     "output_type": "stream",
     "text": [
      " 15%|█▌        | 3/20 [00:22<02:12,  7.77s/it]"
     ]
    },
    {
     "name": "stdout",
     "output_type": "stream",
     "text": [
      "Epoch 3, Running loss: 1.5819576425755277, KL: 91170.171875\n"
     ]
    },
    {
     "name": "stderr",
     "output_type": "stream",
     "text": [
      " 20%|██        | 4/20 [00:29<01:57,  7.35s/it]"
     ]
    },
    {
     "name": "stdout",
     "output_type": "stream",
     "text": [
      "Epoch 4, Running loss: 1.5157846009477656, KL: 90358.0625\n"
     ]
    },
    {
     "name": "stderr",
     "output_type": "stream",
     "text": [
      " 25%|██▌       | 5/20 [00:36<01:48,  7.24s/it]"
     ]
    },
    {
     "name": "stdout",
     "output_type": "stream",
     "text": [
      "Epoch 5, Running loss: 1.456728786103269, KL: 89500.75\n"
     ]
    },
    {
     "name": "stderr",
     "output_type": "stream",
     "text": [
      " 30%|███       | 6/20 [00:43<01:40,  7.14s/it]"
     ]
    },
    {
     "name": "stdout",
     "output_type": "stream",
     "text": [
      "Epoch 6, Running loss: 1.416523738110319, KL: 88612.8984375\n"
     ]
    },
    {
     "name": "stderr",
     "output_type": "stream",
     "text": [
      " 35%|███▌      | 7/20 [00:49<01:29,  6.89s/it]"
     ]
    },
    {
     "name": "stdout",
     "output_type": "stream",
     "text": [
      "Epoch 7, Running loss: 1.3702675251250571, KL: 87689.6171875\n"
     ]
    },
    {
     "name": "stderr",
     "output_type": "stream",
     "text": [
      " 40%|████      | 8/20 [00:57<01:25,  7.13s/it]"
     ]
    },
    {
     "name": "stdout",
     "output_type": "stream",
     "text": [
      "Epoch 8, Running loss: 1.3360090874611064, KL: 86726.515625\n"
     ]
    },
    {
     "name": "stderr",
     "output_type": "stream",
     "text": [
      " 45%|████▌     | 9/20 [01:06<01:25,  7.77s/it]"
     ]
    },
    {
     "name": "stdout",
     "output_type": "stream",
     "text": [
      "Epoch 9, Running loss: 1.3061133394850062, KL: 85729.75\n"
     ]
    },
    {
     "name": "stderr",
     "output_type": "stream",
     "text": [
      " 50%|█████     | 10/20 [01:12<01:12,  7.25s/it]"
     ]
    },
    {
     "name": "stdout",
     "output_type": "stream",
     "text": [
      "Epoch 10, Running loss: 1.2794513469046735, KL: 84720.6015625\n"
     ]
    },
    {
     "name": "stderr",
     "output_type": "stream",
     "text": [
      " 55%|█████▌    | 11/20 [01:18<01:01,  6.87s/it]"
     ]
    },
    {
     "name": "stdout",
     "output_type": "stream",
     "text": [
      "Epoch 11, Running loss: 1.2534895460656348, KL: 83694.2734375\n"
     ]
    },
    {
     "name": "stderr",
     "output_type": "stream",
     "text": [
      " 60%|██████    | 12/20 [01:24<00:52,  6.60s/it]"
     ]
    },
    {
     "name": "stdout",
     "output_type": "stream",
     "text": [
      "Epoch 12, Running loss: 1.2297335005821066, KL: 82646.875\n"
     ]
    },
    {
     "name": "stderr",
     "output_type": "stream",
     "text": [
      " 65%|██████▌   | 13/20 [01:30<00:44,  6.41s/it]"
     ]
    },
    {
     "name": "stdout",
     "output_type": "stream",
     "text": [
      "Epoch 13, Running loss: 1.2067740891842131, KL: 81587.0\n"
     ]
    },
    {
     "name": "stderr",
     "output_type": "stream",
     "text": [
      " 70%|███████   | 14/20 [01:36<00:37,  6.29s/it]"
     ]
    },
    {
     "name": "stdout",
     "output_type": "stream",
     "text": [
      "Epoch 14, Running loss: 1.187203106474369, KL: 80553.65625\n"
     ]
    },
    {
     "name": "stderr",
     "output_type": "stream",
     "text": [
      " 75%|███████▌  | 15/20 [01:42<00:31,  6.25s/it]"
     ]
    },
    {
     "name": "stdout",
     "output_type": "stream",
     "text": [
      "Epoch 15, Running loss: 1.1673663737926077, KL: 79520.953125\n"
     ]
    },
    {
     "name": "stderr",
     "output_type": "stream",
     "text": [
      " 80%|████████  | 16/20 [01:49<00:24,  6.19s/it]"
     ]
    },
    {
     "name": "stdout",
     "output_type": "stream",
     "text": [
      "Epoch 16, Running loss: 1.1491462540119253, KL: 78475.2734375\n"
     ]
    },
    {
     "name": "stderr",
     "output_type": "stream",
     "text": [
      " 85%|████████▌ | 17/20 [01:55<00:18,  6.21s/it]"
     ]
    },
    {
     "name": "stdout",
     "output_type": "stream",
     "text": [
      "Epoch 17, Running loss: 1.1353743852453029, KL: 77435.6875\n"
     ]
    },
    {
     "name": "stderr",
     "output_type": "stream",
     "text": [
      " 90%|█████████ | 18/20 [02:01<00:12,  6.21s/it]"
     ]
    },
    {
     "name": "stdout",
     "output_type": "stream",
     "text": [
      "Epoch 18, Running loss: 1.116528445101799, KL: 76406.90625\n"
     ]
    },
    {
     "name": "stderr",
     "output_type": "stream",
     "text": [
      " 95%|█████████▌| 19/20 [02:07<00:06,  6.17s/it]"
     ]
    },
    {
     "name": "stdout",
     "output_type": "stream",
     "text": [
      "Epoch 19, Running loss: 1.0977267962820987, KL: 75384.0\n"
     ]
    },
    {
     "name": "stderr",
     "output_type": "stream",
     "text": [
      "100%|██████████| 20/20 [02:14<00:00,  6.71s/it]"
     ]
    },
    {
     "name": "stdout",
     "output_type": "stream",
     "text": [
      "Epoch 20, Running loss: 1.0827161365366997, KL: 74372.7734375\n"
     ]
    },
    {
     "name": "stderr",
     "output_type": "stream",
     "text": [
      "\n"
     ]
    },
    {
     "name": "stdout",
     "output_type": "stream",
     "text": [
      "Accuracy: 0.8824999928474426\n"
     ]
    }
   ],
   "execution_count": 12
  }
 ],
 "metadata": {
  "kernelspec": {
   "display_name": "Python 3",
   "language": "python",
   "name": "python3"
  },
  "language_info": {
   "codemirror_mode": {
    "name": "ipython",
    "version": 2
   },
   "file_extension": ".py",
   "mimetype": "text/x-python",
   "name": "python",
   "nbconvert_exporter": "python",
   "pygments_lexer": "ipython2",
   "version": "2.7.6"
  }
 },
 "nbformat": 4,
 "nbformat_minor": 5
}
